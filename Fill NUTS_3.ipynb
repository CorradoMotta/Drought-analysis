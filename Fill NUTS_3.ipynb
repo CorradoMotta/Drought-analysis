{
 "cells": [
  {
   "cell_type": "markdown",
   "id": "80b5b135",
   "metadata": {},
   "source": [
    "## Fill NUTS 3 regions\n",
    "\n",
    "In this notebook we import the NUTS_3,2,1,0 regions where we performed zonal median analysis.\n",
    "We want to fill empty NUTS_3 regions by going backwards up to NUTS_0 units, until we find a median value to use for such area. \n",
    "In case we do not find any valid value, we leave a nan number, (set to -999)."
   ]
  },
  {
   "cell_type": "code",
   "execution_count": 2,
   "id": "f6da6547-71d9-4595-a85d-72646a6b458d",
   "metadata": {},
   "outputs": [],
   "source": [
    "# list of imports\n",
    "import pandas as pd\n",
    "import os\n",
    "# to read conf file\n",
    "import configparser"
   ]
  },
  {
   "cell_type": "code",
   "execution_count": null,
   "id": "0e910a68-511c-402f-9fbf-18d7179c07bd",
   "metadata": {},
   "outputs": [],
   "source": [
    "prj_path = r\"E:\\mottaco\\Documents\\Workspace\\Drought_analysis\\database\\zonal_stats_NUTS3_tot.parquet\"\n",
    "prj_df_3 = pd.read_parquet(prj_path, engine='fastparquet')"
   ]
  },
  {
   "cell_type": "code",
   "execution_count": null,
   "id": "f1f6816d-1ea2-40ee-b78b-890dad8a79c9",
   "metadata": {},
   "outputs": [],
   "source": [
    "prj_df_3"
   ]
  },
  {
   "cell_type": "code",
   "execution_count": null,
   "id": "9644c917-b66e-4d24-af7d-a49afe4e6276",
   "metadata": {},
   "outputs": [],
   "source": [
    "# import all NUTS level and set a multi-index\n",
    "prj_path = r\"E:\\mottaco\\Documents\\Workspace\\Drought_analysis\\database\\zonal_stats_NUTS1_tot.parquet\"\n",
    "prj_df_1 = pd.read_parquet(prj_path, engine='fastparquet').set_index(['model', 'rcp', 'year', 'NUTS_ID'])\n",
    "prj_path = r\"E:\\mottaco\\Documents\\Workspace\\Drought_analysis\\database\\zonal_stats_NUTS2_tot.parquet\"\n",
    "prj_df_2 = pd.read_parquet(prj_path, engine='fastparquet').set_index(['model', 'rcp', 'year', 'NUTS_ID'])\n",
    "prj_path = r\"E:\\mottaco\\Documents\\Workspace\\Drought_analysis\\database\\zonal_stats_NUTS0_tot.parquet\"\n",
    "prj_df_0 = pd.read_parquet(prj_path, engine='fastparquet').set_index(['model', 'rcp', 'year', 'NUTS_ID'])"
   ]
  },
  {
   "cell_type": "code",
   "execution_count": null,
   "id": "4305521d-dfc1-4c32-9715-8e315d7d00a8",
   "metadata": {},
   "outputs": [],
   "source": [
    "# Create new columns in NUTS-3 for all of them\n",
    "prj_df_3[\"NUTS_ID_2\"] = prj_df_3[\"NUTS_ID\"].str[:-1]\n",
    "prj_df_3[\"NUTS_ID_1\"] = prj_df_3[\"NUTS_ID\"].str[:-2]\n",
    "prj_df_3[\"NUTS_ID_0\"] = prj_df_3[\"NUTS_ID\"].str[:-3]"
   ]
  },
  {
   "cell_type": "code",
   "execution_count": null,
   "id": "0b11bf53-de9a-4ec1-8e5a-a9435e46bf12",
   "metadata": {},
   "outputs": [],
   "source": [
    "EU = ['AT','BE','BG','HR','CY','CZ','DK','EE','FI','FR','DE','EL','HU','IE','IT','LV','LT','LU','MT','NL','PL','PT','RO','SK','SI','ES','SE','UK']"
   ]
  },
  {
   "cell_type": "markdown",
   "id": "5aefb848-2b8a-4903-9240-07f0d3375e6a",
   "metadata": {},
   "source": [
    "For DF3 we remove non EU countries"
   ]
  },
  {
   "cell_type": "code",
   "execution_count": null,
   "id": "55c62f05-07bd-43b7-800a-1be6f078e72b",
   "metadata": {},
   "outputs": [],
   "source": [
    "prj_df_3 = prj_df_3[prj_df_3.NUTS_ID_0.isin(EU)]"
   ]
  },
  {
   "cell_type": "markdown",
   "id": "4fc6abb4-6da1-432f-8b7d-9113d193af21",
   "metadata": {},
   "source": [
    "Now we split in two dfs depending on med value"
   ]
  },
  {
   "cell_type": "code",
   "execution_count": null,
   "id": "e4fbb402-1a46-4170-b352-5390cc610512",
   "metadata": {},
   "outputs": [],
   "source": [
    "# first adding a new column\n",
    "mask = prj_df_3.med == -999\n",
    "prj_df_3_OK = prj_df_3[~mask]\n",
    "prj_df_3_NOT_OK = prj_df_3[mask]"
   ]
  },
  {
   "cell_type": "code",
   "execution_count": null,
   "id": "21452939-eddc-4513-8b92-10c762416659",
   "metadata": {},
   "outputs": [],
   "source": [
    "# add all dfs to a dict to simplify operations later on\n",
    "db_dict = {\n",
    "  0: prj_df_0,\n",
    "  1: prj_df_1,\n",
    "  2: prj_df_2,\n",
    "  3: prj_df_3\n",
    "}"
   ]
  },
  {
   "cell_type": "code",
   "execution_count": null,
   "id": "eaf91efd-70e0-436b-91b1-e24cea38a0e7",
   "metadata": {},
   "outputs": [],
   "source": [
    "from ipywidgets import IntProgress\n",
    "from IPython.display import display\n",
    "import time"
   ]
  },
  {
   "cell_type": "markdown",
   "id": "b1152d51-4efe-4ce2-bbcd-9c7eb51e7abe",
   "metadata": {},
   "source": [
    "Finally, we iterate over all rows and for each row we look recursively for a median value. Until we find one."
   ]
  },
  {
   "cell_type": "code",
   "execution_count": null,
   "id": "83e95b8a-a30b-4b93-8e09-14e5cda06c30",
   "metadata": {},
   "outputs": [],
   "source": [
    "max_count = len(prj_df_3_NOT_OK)\n",
    "f = IntProgress(min=0, max=max_count) # instantiate the bar\n",
    "display(f) # display the bar\n",
    "\n",
    "# iterrate over ALL rows\n",
    "for i, x in prj_df_3_NOT_OK.iterrows():\n",
    "    f.value +=1\n",
    "    nuts_level = 3\n",
    "    while(nuts_level):\n",
    "        to_subs = 4 - nuts_level\n",
    "        nuts_level -= 1 \n",
    "        new_med = db_dict[nuts_level].loc[(x.model,x.rcp,x.year, x.NUTS_ID[:-to_subs])].med\n",
    "        if(new_med!=-999): break\n",
    "    # bit slower than making a new column\n",
    "    prj_df_3_NOT_OK.loc[i, 'med'] = new_med\n",
    "\n",
    "# concatenate back and save\n",
    "final_df = pd.concat([prj_df_3_OK,prj_df_3_NOT_OK]).reset_index(drop=True)\n",
    "final_df.drop(['NUTS_ID_2', 'NUTS_ID_1','NUTS_ID_0'], axis=1,inplace=True)"
   ]
  },
  {
   "cell_type": "code",
   "execution_count": null,
   "id": "8723198c-57ec-47cf-96ff-f74b9835266f",
   "metadata": {},
   "outputs": [],
   "source": [
    "# finally we save to parquet\n",
    "final_df.to_parquet('zonal_stats_NUTS{0}_filled_new.parquet'.format(3), engine='fastparquet')"
   ]
  }
 ],
 "metadata": {
  "kernelspec": {
   "display_name": "Python 3 (ipykernel)",
   "language": "python",
   "name": "python3"
  },
  "language_info": {
   "codemirror_mode": {
    "name": "ipython",
    "version": 3
   },
   "file_extension": ".py",
   "mimetype": "text/x-python",
   "name": "python",
   "nbconvert_exporter": "python",
   "pygments_lexer": "ipython3",
   "version": "3.10.8"
  }
 },
 "nbformat": 4,
 "nbformat_minor": 5
}

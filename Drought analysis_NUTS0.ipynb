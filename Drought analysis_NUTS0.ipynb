{
 "cells": [
  {
   "cell_type": "markdown",
   "id": "80b5b135",
   "metadata": {},
   "source": [
    "## Drought analysis at NUTS-0 level\n",
    "In this notebook we show how to estimate the drought impacts by fitting a power law curve. Such \"damage\" function will depict the relationship between the country median drought frequency and the loss as a fraction of the exposed value of sensitive sectors.\n",
    "\n",
    "The steps are the following:\n",
    "\n",
    "1. Import configuration file and save parameters.\n",
    "2. Import drought frequency data from parquet.\n",
    "3. Import drought impact data, filter according to the configuration file and extract the drought frequency median for country and year.\n",
    "4. Estimate the parameters of the power law based on the historical data.\n",
    "5. Calculate the estimates of economic damages for all climate models (for the baseline).\n",
    "\n",
    "Here the list of needed packages"
   ]
  },
  {
   "cell_type": "code",
   "execution_count": 91,
   "id": "64f35cf2-f6b2-4392-aecc-2181d547951f",
   "metadata": {},
   "outputs": [],
   "source": [
    "import pandas as pd\n",
    "import os\n",
    "import re\n",
    "import configparser\n",
    "import sys\n",
    "import numpy as np"
   ]
  },
  {
   "cell_type": "markdown",
   "id": "ffc41f7e-e9d6-4e2c-af46-9134d6e66fd7",
   "metadata": {},
   "source": [
    "### Read configuration file\n",
    "\n",
    "Configuration file contains several parameters to filter the drought impact data in different ways as well as some other configuration fields. We developed a simple class to read all input parameters. The class is named `conf_ini` and is located in the scripts folder. Let's import the class:"
   ]
  },
  {
   "cell_type": "code",
   "execution_count": 92,
   "id": "32b3b76c-c3e9-4c96-97ad-386d6623fff7",
   "metadata": {},
   "outputs": [],
   "source": [
    "sys.path.append('scripts')\n",
    "from conf import conf_ini"
   ]
  },
  {
   "cell_type": "code",
   "execution_count": 93,
   "id": "8b9baf42-8176-4be6-ad2b-23515467c922",
   "metadata": {},
   "outputs": [],
   "source": [
    "# uncomment to show the class info\n",
    "#help(conf_ini)"
   ]
  },
  {
   "cell_type": "code",
   "execution_count": 94,
   "id": "ba4d8cde-02f0-4d03-bc08-2a931fe96688",
   "metadata": {},
   "outputs": [],
   "source": [
    "my_params = conf_ini(\"conf/conf.ini\")"
   ]
  },
  {
   "cell_type": "code",
   "execution_count": 5,
   "id": "52e2c1ed-a2a1-44fd-b7f9-9d6c16c36154",
   "metadata": {},
   "outputs": [
    {
     "data": {
      "text/plain": [
       "{'prj_median_threshold': 0.5,\n",
       " 'peseta_inputs': True,\n",
       " 'filter': {'eu_only': True,\n",
       "  'loss_threshold': 50.0,\n",
       "  'year_threshold': 1989,\n",
       "  'events': ['drought', 'heatwave']}}"
      ]
     },
     "execution_count": 5,
     "metadata": {},
     "output_type": "execute_result"
    }
   ],
   "source": [
    "my_params.drought_analysis"
   ]
  },
  {
   "cell_type": "markdown",
   "id": "18ca9df2",
   "metadata": {},
   "source": [
    "### Import parquet file\n",
    "Our frequency data are saved in the parquet format, which is provided by [apache](https://parquet.apache.org/). We can use pandas with the 'fastparquet' engine to open and access the data."
   ]
  },
  {
   "cell_type": "code",
   "execution_count": 6,
   "id": "6eb1367a-238d-47b0-8aad-013a2b02d668",
   "metadata": {},
   "outputs": [],
   "source": [
    "# filename\n",
    "db_fn = \"historical_zonal_stats_NUTS0.parquet\" \n",
    "db_path = os.path.join(my_params.generic['db_path'],db_fn)"
   ]
  },
  {
   "cell_type": "code",
   "execution_count": 7,
   "id": "b956d6f3-24ba-4b41-b5b4-a2062a2240d3",
   "metadata": {},
   "outputs": [],
   "source": [
    "# open file\n",
    "df = pd.read_parquet(db_path, engine='fastparquet')"
   ]
  },
  {
   "cell_type": "code",
   "execution_count": 8,
   "id": "2ed5d706-4dca-4cc2-b646-607243d36d82",
   "metadata": {},
   "outputs": [
    {
     "data": {
      "text/plain": [
       "array(['CZ', 'DE', 'DK', 'AL', 'CY', 'BG', 'AT', 'BE', 'EE', 'EL', 'ES',\n",
       "       'FI', 'FR', 'HR', 'CH', 'HU', 'IE', 'IS', 'IT', 'LV', 'ME', 'MT',\n",
       "       'MK', 'LT', 'LU', 'NL', 'NO', 'SI', 'LI', 'PL', 'RS', 'SE', 'SK',\n",
       "       'TR', 'UK', 'PT', 'RO', 'BA'], dtype=object)"
      ]
     },
     "execution_count": 8,
     "metadata": {},
     "output_type": "execute_result"
    }
   ],
   "source": [
    "df.NUTS_ID.unique()"
   ]
  },
  {
   "cell_type": "code",
   "execution_count": 9,
   "id": "ba788133-1fc0-4900-b246-43553c16948f",
   "metadata": {},
   "outputs": [],
   "source": [
    "# we remove values above 0.5. Such values as intended as not representing a loss and therefore not considered.\n",
    "#df = df[df[\"med\"]<0.5]"
   ]
  },
  {
   "cell_type": "code",
   "execution_count": 10,
   "id": "919ec615-42e1-4571-8c9e-6ef042653b39",
   "metadata": {},
   "outputs": [],
   "source": [
    "final = df"
   ]
  },
  {
   "cell_type": "markdown",
   "id": "9c370686",
   "metadata": {},
   "source": [
    "### Import drought impact data and extract the drought frequency median for country and year.\n",
    "\n",
    "Drought impact data are available from a csv table which contains all events of drought or similar in the european continent.\n",
    "\n",
    "We can filter the events based on the configuration parameters in the configuration file. For example, the following map shows the available events with the following constraints:\n",
    "\n",
    "| Parameter's name | Value |\n",
    "| ---------------- | ----- |\n",
    "| year_threshold   | 1989  |\n",
    "| loss_threshold   | 100   |\n",
    "| eu_only          | True  |\n",
    "| events           |Drought|\n",
    "\n",
    "\n",
    "<img src=\"png/drought_intensity_100M_countries.png\" width=\"1000\">"
   ]
  },
  {
   "cell_type": "code",
   "execution_count": 11,
   "id": "6e140776",
   "metadata": {},
   "outputs": [],
   "source": [
    "# if we want to work with PESETA IV inputs\n",
    "if(my_params.drought_analysis[\"peseta_inputs\"]):\n",
    "    df_grouped = pd.read_csv(\"csv/peseta_inputs.csv\")\n",
    "else:\n",
    "    # otherwise import the CSV raw file with all impact data\n",
    "    filename_m= r\"csv/drought_impact_all.csv\"\n",
    "    df_mre = pd.read_csv(filename_m)"
   ]
  },
  {
   "cell_type": "code",
   "execution_count": 12,
   "id": "d5a91b1e-2bfe-44cd-b2ad-d2d413d3627b",
   "metadata": {},
   "outputs": [
    {
     "data": {
      "text/plain": [
       "True"
      ]
     },
     "execution_count": 12,
     "metadata": {},
     "output_type": "execute_result"
    }
   ],
   "source": [
    "my_params.drought_analysis[\"peseta_inputs\"]"
   ]
  },
  {
   "cell_type": "markdown",
   "id": "e80e1159-9124-4f5b-92eb-09d53fa1467c",
   "metadata": {},
   "source": [
    "We want to add a few columns to the table to be able to differentiate between EU and not EU, and to add the alpha-2 ISO name"
   ]
  },
  {
   "cell_type": "code",
   "execution_count": 13,
   "id": "83561db3-72a1-41a5-87d9-82cb1c33147e",
   "metadata": {},
   "outputs": [],
   "source": [
    "filename_a = r\"csv/alpha2Name.csv\"\n",
    "df_alpha = pd.read_csv(filename_a)"
   ]
  },
  {
   "cell_type": "code",
   "execution_count": 14,
   "id": "e83e79cd-d342-4114-b45a-b08dfc8287b4",
   "metadata": {},
   "outputs": [],
   "source": [
    "# Create dictionaries and functions to populate the new columns using the apply method\n",
    "dict_eu=dict(zip(df_alpha['ISO3'],df_alpha['EU28']))\n",
    "dict_iso=dict(zip(df_alpha['ISO3'],df_alpha['ISO2']))\n",
    "dict_alpha=dict(zip(df_alpha['ISO2'], df_alpha['Name']))\n",
    "\n",
    "# small function to return the dictionaries value based on the key\n",
    "def is_eu(dfs):\n",
    "    return dict_eu[dfs['Country ISO3']]\n",
    "def iso_2(dfs):\n",
    "    return dict_iso[dfs['Country ISO3']]    \n",
    "# small function to return country name\n",
    "def country_name(dfs, cc):\n",
    "    return dict_alpha[dfs[cc]]"
   ]
  },
  {
   "cell_type": "markdown",
   "id": "645d0088-0ab2-4ab9-9d75-61428bd9f873",
   "metadata": {},
   "source": [
    "We are now ready to filter the table using the parameter in the conf file."
   ]
  },
  {
   "cell_type": "code",
   "execution_count": 15,
   "id": "0c3a511d-3e9a-4e43-b3b6-3d06b06493cd",
   "metadata": {},
   "outputs": [
    {
     "name": "stdout",
     "output_type": "stream",
     "text": [
      "The following filter will be applied\n",
      "{'eu_only': True, 'loss_threshold': 50.0, 'year_threshold': 1989, 'events': ['drought', 'heatwave']}\n"
     ]
    }
   ],
   "source": [
    "drought_data = my_params.drought_analysis[\"filter\"]\n",
    "print(\"The following filter will be applied\")\n",
    "print(drought_data)"
   ]
  },
  {
   "cell_type": "code",
   "execution_count": 16,
   "id": "6d4427ac-f0fc-4332-b607-59370d31bff7",
   "metadata": {},
   "outputs": [],
   "source": [
    "if(not my_params.drought_analysis[\"peseta_inputs\"]):\n",
    "    # use the apply function of pandas to make the new column\n",
    "    df_mre['is_eu'] = df_mre.apply(is_eu, axis = 1)\n",
    "    df_mre['ISO_2'] = df_mre.apply(iso_2, axis = 1)\n",
    "\n",
    "    df_filtered = df_mre[(df_mre[\"Year\"]>drought_data['year_threshold']) & \n",
    "                         (df_mre[\"losses\"]>drought_data['loss_threshold']) & \n",
    "                         [len(set([word.strip().lower() for word in l.split(\",\")])&set(drought_data['events']))>0 for l in df_mre['Event Text']]].copy()\n",
    "    # In case the analysis is only for EU + UK, let's remove the countries outside the EU + UK\n",
    "    if(drought_data['eu_only']):\n",
    "        df_filtered = df_filtered[df_filtered['is_eu']]"
   ]
  },
  {
   "cell_type": "code",
   "execution_count": 17,
   "id": "43f577fd-3ce2-407d-bd6c-45e264f691f5",
   "metadata": {},
   "outputs": [],
   "source": [
    "# uncomment to see the results\n",
    "#df_filtered"
   ]
  },
  {
   "cell_type": "code",
   "execution_count": 18,
   "id": "f1ac46cc-ae3e-4962-8595-ed20f94e5b21",
   "metadata": {},
   "outputs": [],
   "source": [
    "# uncomment to save the new table\n",
    "#df_filtered.to_csv(\"new_impact_data.csv\")"
   ]
  },
  {
   "cell_type": "markdown",
   "id": "12397e72-122f-4f47-a449-98c0ec909669",
   "metadata": {},
   "source": [
    "Finally, if i have more than one drought event per year, i should merge such events into one, by summing the respective losses."
   ]
  },
  {
   "cell_type": "code",
   "execution_count": 19,
   "id": "c839bd02-23b2-48a8-b8ba-23ad44cdba08",
   "metadata": {},
   "outputs": [],
   "source": [
    "if(not my_params.drought_analysis[\"peseta_inputs\"]):\n",
    "    # grouping events\n",
    "    df_to_group = df_filtered[[\"ISO_2\",\"Year\",\"losses\"]].copy()\n",
    "    df_grouped = df_to_group.groupby(['ISO_2','Year'])"
   ]
  },
  {
   "cell_type": "code",
   "execution_count": 20,
   "id": "04fbe1c3-dc42-45e3-aa2d-49a4a030fd4d",
   "metadata": {},
   "outputs": [],
   "source": [
    "# check if any group as more than one event\n",
    "# df_grouped.count().reset_index().query(\"losses>1\")"
   ]
  },
  {
   "cell_type": "code",
   "execution_count": 21,
   "id": "da198403-62b9-41d7-aa2a-a5ab6042eb53",
   "metadata": {},
   "outputs": [],
   "source": [
    "if(not my_params.drought_analysis[\"peseta_inputs\"]):\n",
    "    # if any, group them\n",
    "    df_grouped = df_grouped.sum().reset_index()"
   ]
  },
  {
   "cell_type": "code",
   "execution_count": 22,
   "id": "5e1760a3-04c0-4c06-9b6e-2043571d2b9a",
   "metadata": {},
   "outputs": [],
   "source": [
    "df_grouped[\"country_name\"] = df_grouped.apply(country_name, args=(\"ISO_2\",),axis=1)"
   ]
  },
  {
   "cell_type": "markdown",
   "id": "e8238fa3-ab48-492c-9338-f6c6debb1ec2",
   "metadata": {},
   "source": [
    "Now we are ready to calculate the loss as a fraction. The steps needed are the following:\n",
    "\n",
    "* Import the exposed sensitivity values\n",
    "* Add them to the filtered and grouped table\n",
    "* Calculate the loss as a fraction of such values"
   ]
  },
  {
   "cell_type": "code",
   "execution_count": 23,
   "id": "10f55a33-3f23-49cf-812e-178b63946194",
   "metadata": {},
   "outputs": [],
   "source": [
    "# import the CSV\n",
    "filename_m = r\"csv/exposed_sensitivity_NUTS_1.csv\"\n",
    "df_exposed = pd.read_csv(filename_m)\n",
    "dict_exp=dict(zip(df_exposed['ISO_2'],df_exposed['Sensitivity']))"
   ]
  },
  {
   "cell_type": "code",
   "execution_count": 24,
   "id": "56df35f0-b5c9-4658-90a3-1568b0c20ffa",
   "metadata": {},
   "outputs": [],
   "source": [
    "# function to add the sensitivity value to each row of the events table\n",
    "def get_exp(dfs):\n",
    "    try: \n",
    "        expv = float(dict_exp[dfs['ISO_2']])\n",
    "    except:\n",
    "        expv = np.nan\n",
    "    return expv"
   ]
  },
  {
   "cell_type": "code",
   "execution_count": 25,
   "id": "8bfe6523-a1a7-4dd1-a1ee-6d519979739d",
   "metadata": {},
   "outputs": [],
   "source": [
    "df_grouped['sensitivity'] = df_grouped.apply(get_exp, axis = 1)"
   ]
  },
  {
   "cell_type": "markdown",
   "id": "af462415-bf5b-4840-8b87-26077ed19f7c",
   "metadata": {},
   "source": [
    "Now we can calculate the fraction value"
   ]
  },
  {
   "cell_type": "code",
   "execution_count": 26,
   "id": "bb588d61-70db-4b2f-97af-1bb5382121ca",
   "metadata": {},
   "outputs": [],
   "source": [
    "df_grouped['fraction'] = df_grouped['losses']/df_grouped['sensitivity']"
   ]
  },
  {
   "cell_type": "code",
   "execution_count": 27,
   "id": "4d8126f7-7bf2-42a5-8555-45c7b8b02491",
   "metadata": {},
   "outputs": [],
   "source": [
    "# final table\n",
    "df_grouped = df_grouped.sort_values(\"fraction\")"
   ]
  },
  {
   "cell_type": "code",
   "execution_count": 28,
   "id": "b1dceeb9-d74e-4778-977b-502d3f546a7e",
   "metadata": {},
   "outputs": [],
   "source": [
    "def add_med(df):\n",
    "    value =0 \n",
    "    try:\n",
    "        value=float(final.query(\"NUTS_ID==@df.ISO_2 and year==@df.Year\").med)\n",
    "    except:\n",
    "        value=-999\n",
    "    return value"
   ]
  },
  {
   "cell_type": "code",
   "execution_count": 29,
   "id": "153d669e-63e6-4fa0-a371-2c804ee56e9e",
   "metadata": {},
   "outputs": [],
   "source": [
    "df_grouped['med'] = df_grouped.apply(add_med, axis = 1)"
   ]
  },
  {
   "cell_type": "code",
   "execution_count": 30,
   "id": "c3c35c5e-69ac-46d5-862e-1a88bc25a9a5",
   "metadata": {},
   "outputs": [],
   "source": [
    "#df_grouped['country'] = df_grouped.apply(country_name, args=(\"ISO_2\",), axis = 1)"
   ]
  },
  {
   "cell_type": "code",
   "execution_count": 31,
   "id": "17cc560b-9003-450c-966b-6702a198b1b5",
   "metadata": {},
   "outputs": [],
   "source": [
    "#df_grouped.to_csv(\"med_CM.csv\")"
   ]
  },
  {
   "cell_type": "code",
   "execution_count": 32,
   "id": "0e885976-8644-4bcd-b723-e97a961d3b92",
   "metadata": {},
   "outputs": [
    {
     "data": {
      "text/html": [
       "<div>\n",
       "<style scoped>\n",
       "    .dataframe tbody tr th:only-of-type {\n",
       "        vertical-align: middle;\n",
       "    }\n",
       "\n",
       "    .dataframe tbody tr th {\n",
       "        vertical-align: top;\n",
       "    }\n",
       "\n",
       "    .dataframe thead th {\n",
       "        text-align: right;\n",
       "    }\n",
       "</style>\n",
       "<table border=\"1\" class=\"dataframe\">\n",
       "  <thead>\n",
       "    <tr style=\"text-align: right;\">\n",
       "      <th></th>\n",
       "      <th>ISO_2</th>\n",
       "      <th>Year</th>\n",
       "      <th>losses</th>\n",
       "      <th>country_name</th>\n",
       "      <th>sensitivity</th>\n",
       "      <th>fraction</th>\n",
       "      <th>med</th>\n",
       "    </tr>\n",
       "  </thead>\n",
       "  <tbody>\n",
       "    <tr>\n",
       "      <th>39</th>\n",
       "      <td>ES</td>\n",
       "      <td>2009</td>\n",
       "      <td>169.657531</td>\n",
       "      <td>Spain</td>\n",
       "      <td>31220.0</td>\n",
       "      <td>0.005434</td>\n",
       "      <td>0.413097</td>\n",
       "    </tr>\n",
       "    <tr>\n",
       "      <th>41</th>\n",
       "      <td>ES</td>\n",
       "      <td>2015</td>\n",
       "      <td>177.685193</td>\n",
       "      <td>Spain</td>\n",
       "      <td>31220.0</td>\n",
       "      <td>0.005691</td>\n",
       "      <td>0.477742</td>\n",
       "    </tr>\n",
       "    <tr>\n",
       "      <th>14</th>\n",
       "      <td>IT</td>\n",
       "      <td>2006</td>\n",
       "      <td>455.745423</td>\n",
       "      <td>Italy</td>\n",
       "      <td>45938.0</td>\n",
       "      <td>0.009921</td>\n",
       "      <td>0.520275</td>\n",
       "    </tr>\n",
       "    <tr>\n",
       "      <th>42</th>\n",
       "      <td>ES</td>\n",
       "      <td>2016</td>\n",
       "      <td>314.394790</td>\n",
       "      <td>Spain</td>\n",
       "      <td>31220.0</td>\n",
       "      <td>0.010070</td>\n",
       "      <td>0.493547</td>\n",
       "    </tr>\n",
       "    <tr>\n",
       "      <th>13</th>\n",
       "      <td>IT</td>\n",
       "      <td>1997</td>\n",
       "      <td>1000.940996</td>\n",
       "      <td>Italy</td>\n",
       "      <td>45938.0</td>\n",
       "      <td>0.021789</td>\n",
       "      <td>0.376713</td>\n",
       "    </tr>\n",
       "    <tr>\n",
       "      <th>23</th>\n",
       "      <td>RO</td>\n",
       "      <td>2001</td>\n",
       "      <td>184.290000</td>\n",
       "      <td>Romania</td>\n",
       "      <td>8083.0</td>\n",
       "      <td>0.022800</td>\n",
       "      <td>0.236878</td>\n",
       "    </tr>\n",
       "    <tr>\n",
       "      <th>15</th>\n",
       "      <td>IT</td>\n",
       "      <td>2012</td>\n",
       "      <td>1081.000000</td>\n",
       "      <td>Italy</td>\n",
       "      <td>45938.0</td>\n",
       "      <td>0.023532</td>\n",
       "      <td>0.294271</td>\n",
       "    </tr>\n",
       "    <tr>\n",
       "      <th>30</th>\n",
       "      <td>SK</td>\n",
       "      <td>2012</td>\n",
       "      <td>79.847153</td>\n",
       "      <td>Slovakia</td>\n",
       "      <td>3265.0</td>\n",
       "      <td>0.024455</td>\n",
       "      <td>0.484501</td>\n",
       "    </tr>\n",
       "    <tr>\n",
       "      <th>38</th>\n",
       "      <td>ES</td>\n",
       "      <td>2005</td>\n",
       "      <td>920.859606</td>\n",
       "      <td>Spain</td>\n",
       "      <td>31220.0</td>\n",
       "      <td>0.029496</td>\n",
       "      <td>0.172027</td>\n",
       "    </tr>\n",
       "    <tr>\n",
       "      <th>18</th>\n",
       "      <td>PL</td>\n",
       "      <td>2003</td>\n",
       "      <td>414.131728</td>\n",
       "      <td>Poland</td>\n",
       "      <td>12593.0</td>\n",
       "      <td>0.032886</td>\n",
       "      <td>0.361522</td>\n",
       "    </tr>\n",
       "    <tr>\n",
       "      <th>40</th>\n",
       "      <td>ES</td>\n",
       "      <td>2012</td>\n",
       "      <td>1060.618103</td>\n",
       "      <td>Spain</td>\n",
       "      <td>31220.0</td>\n",
       "      <td>0.033972</td>\n",
       "      <td>0.202122</td>\n",
       "    </tr>\n",
       "    <tr>\n",
       "      <th>9</th>\n",
       "      <td>DE</td>\n",
       "      <td>2003</td>\n",
       "      <td>1808.980454</td>\n",
       "      <td>Germany</td>\n",
       "      <td>51266.0</td>\n",
       "      <td>0.035286</td>\n",
       "      <td>0.272731</td>\n",
       "    </tr>\n",
       "    <tr>\n",
       "      <th>33</th>\n",
       "      <td>ES</td>\n",
       "      <td>1992</td>\n",
       "      <td>1139.841437</td>\n",
       "      <td>Spain</td>\n",
       "      <td>31220.0</td>\n",
       "      <td>0.036510</td>\n",
       "      <td>0.409932</td>\n",
       "    </tr>\n",
       "    <tr>\n",
       "      <th>34</th>\n",
       "      <td>ES</td>\n",
       "      <td>1993</td>\n",
       "      <td>1263.223871</td>\n",
       "      <td>Spain</td>\n",
       "      <td>31220.0</td>\n",
       "      <td>0.040462</td>\n",
       "      <td>0.374756</td>\n",
       "    </tr>\n",
       "    <tr>\n",
       "      <th>12</th>\n",
       "      <td>HU</td>\n",
       "      <td>2000</td>\n",
       "      <td>168.630029</td>\n",
       "      <td>Hungary</td>\n",
       "      <td>4067.0</td>\n",
       "      <td>0.041463</td>\n",
       "      <td>0.401523</td>\n",
       "    </tr>\n",
       "    <tr>\n",
       "      <th>27</th>\n",
       "      <td>RS</td>\n",
       "      <td>2011</td>\n",
       "      <td>99.930802</td>\n",
       "      <td>Serbia</td>\n",
       "      <td>2370.0</td>\n",
       "      <td>0.042165</td>\n",
       "      <td>0.232054</td>\n",
       "    </tr>\n",
       "    <tr>\n",
       "      <th>4</th>\n",
       "      <td>HR</td>\n",
       "      <td>2000</td>\n",
       "      <td>75.866760</td>\n",
       "      <td>Croatia</td>\n",
       "      <td>1722.0</td>\n",
       "      <td>0.044057</td>\n",
       "      <td>0.255371</td>\n",
       "    </tr>\n",
       "    <tr>\n",
       "      <th>35</th>\n",
       "      <td>ES</td>\n",
       "      <td>1994</td>\n",
       "      <td>1471.554226</td>\n",
       "      <td>Spain</td>\n",
       "      <td>31220.0</td>\n",
       "      <td>0.047135</td>\n",
       "      <td>0.200042</td>\n",
       "    </tr>\n",
       "    <tr>\n",
       "      <th>19</th>\n",
       "      <td>PL</td>\n",
       "      <td>2006</td>\n",
       "      <td>663.498334</td>\n",
       "      <td>Poland</td>\n",
       "      <td>12593.0</td>\n",
       "      <td>0.052688</td>\n",
       "      <td>0.062116</td>\n",
       "    </tr>\n",
       "    <tr>\n",
       "      <th>36</th>\n",
       "      <td>ES</td>\n",
       "      <td>1995</td>\n",
       "      <td>1653.640119</td>\n",
       "      <td>Spain</td>\n",
       "      <td>31220.0</td>\n",
       "      <td>0.052967</td>\n",
       "      <td>0.124639</td>\n",
       "    </tr>\n",
       "    <tr>\n",
       "      <th>29</th>\n",
       "      <td>SK</td>\n",
       "      <td>2003</td>\n",
       "      <td>185.027215</td>\n",
       "      <td>Slovakia</td>\n",
       "      <td>3265.0</td>\n",
       "      <td>0.056670</td>\n",
       "      <td>0.329743</td>\n",
       "    </tr>\n",
       "    <tr>\n",
       "      <th>7</th>\n",
       "      <td>FR</td>\n",
       "      <td>1989</td>\n",
       "      <td>2780.000000</td>\n",
       "      <td>France</td>\n",
       "      <td>48007.0</td>\n",
       "      <td>0.057908</td>\n",
       "      <td>-999.000000</td>\n",
       "    </tr>\n",
       "    <tr>\n",
       "      <th>31</th>\n",
       "      <td>SI</td>\n",
       "      <td>2003</td>\n",
       "      <td>92.563704</td>\n",
       "      <td>Slovenia</td>\n",
       "      <td>1564.0</td>\n",
       "      <td>0.059184</td>\n",
       "      <td>0.168102</td>\n",
       "    </tr>\n",
       "    <tr>\n",
       "      <th>21</th>\n",
       "      <td>PT</td>\n",
       "      <td>2012</td>\n",
       "      <td>376.226606</td>\n",
       "      <td>Portugal</td>\n",
       "      <td>5034.0</td>\n",
       "      <td>0.074737</td>\n",
       "      <td>0.090349</td>\n",
       "    </tr>\n",
       "    <tr>\n",
       "      <th>24</th>\n",
       "      <td>RO</td>\n",
       "      <td>2003</td>\n",
       "      <td>616.926263</td>\n",
       "      <td>Romania</td>\n",
       "      <td>8083.0</td>\n",
       "      <td>0.076324</td>\n",
       "      <td>0.449441</td>\n",
       "    </tr>\n",
       "    <tr>\n",
       "      <th>5</th>\n",
       "      <td>HR</td>\n",
       "      <td>2012</td>\n",
       "      <td>142.683077</td>\n",
       "      <td>Croatia</td>\n",
       "      <td>1722.0</td>\n",
       "      <td>0.082859</td>\n",
       "      <td>0.023186</td>\n",
       "    </tr>\n",
       "    <tr>\n",
       "      <th>32</th>\n",
       "      <td>SI</td>\n",
       "      <td>2012</td>\n",
       "      <td>130.493361</td>\n",
       "      <td>Slovenia</td>\n",
       "      <td>1564.0</td>\n",
       "      <td>0.083436</td>\n",
       "      <td>0.032231</td>\n",
       "    </tr>\n",
       "    <tr>\n",
       "      <th>8</th>\n",
       "      <td>FR</td>\n",
       "      <td>2003</td>\n",
       "      <td>4635.056689</td>\n",
       "      <td>France</td>\n",
       "      <td>48007.0</td>\n",
       "      <td>0.096550</td>\n",
       "      <td>0.244741</td>\n",
       "    </tr>\n",
       "    <tr>\n",
       "      <th>22</th>\n",
       "      <td>RO</td>\n",
       "      <td>2000</td>\n",
       "      <td>836.980831</td>\n",
       "      <td>Romania</td>\n",
       "      <td>8083.0</td>\n",
       "      <td>0.103548</td>\n",
       "      <td>0.252091</td>\n",
       "    </tr>\n",
       "    <tr>\n",
       "      <th>25</th>\n",
       "      <td>RO</td>\n",
       "      <td>2012</td>\n",
       "      <td>852.698110</td>\n",
       "      <td>Romania</td>\n",
       "      <td>8083.0</td>\n",
       "      <td>0.105493</td>\n",
       "      <td>0.290525</td>\n",
       "    </tr>\n",
       "    <tr>\n",
       "      <th>2</th>\n",
       "      <td>BA</td>\n",
       "      <td>2011</td>\n",
       "      <td>96.930012</td>\n",
       "      <td>Bosnia and Herzegovina</td>\n",
       "      <td>835.0</td>\n",
       "      <td>0.116084</td>\n",
       "      <td>0.206383</td>\n",
       "    </tr>\n",
       "    <tr>\n",
       "      <th>0</th>\n",
       "      <td>AL</td>\n",
       "      <td>1990</td>\n",
       "      <td>171.847366</td>\n",
       "      <td>Albania</td>\n",
       "      <td>1431.0</td>\n",
       "      <td>0.120089</td>\n",
       "      <td>0.016749</td>\n",
       "    </tr>\n",
       "    <tr>\n",
       "      <th>37</th>\n",
       "      <td>ES</td>\n",
       "      <td>1999</td>\n",
       "      <td>4484.311865</td>\n",
       "      <td>Spain</td>\n",
       "      <td>31220.0</td>\n",
       "      <td>0.143636</td>\n",
       "      <td>0.405226</td>\n",
       "    </tr>\n",
       "    <tr>\n",
       "      <th>11</th>\n",
       "      <td>HU</td>\n",
       "      <td>1992</td>\n",
       "      <td>721.820057</td>\n",
       "      <td>Hungary</td>\n",
       "      <td>4067.0</td>\n",
       "      <td>0.177482</td>\n",
       "      <td>0.181803</td>\n",
       "    </tr>\n",
       "    <tr>\n",
       "      <th>28</th>\n",
       "      <td>RS</td>\n",
       "      <td>2012</td>\n",
       "      <td>424.515140</td>\n",
       "      <td>Serbia</td>\n",
       "      <td>2370.0</td>\n",
       "      <td>0.179120</td>\n",
       "      <td>0.212613</td>\n",
       "    </tr>\n",
       "    <tr>\n",
       "      <th>16</th>\n",
       "      <td>LT</td>\n",
       "      <td>2006</td>\n",
       "      <td>240.930949</td>\n",
       "      <td>Lithuania</td>\n",
       "      <td>1149.0</td>\n",
       "      <td>0.209688</td>\n",
       "      <td>0.056235</td>\n",
       "    </tr>\n",
       "    <tr>\n",
       "      <th>6</th>\n",
       "      <td>DK</td>\n",
       "      <td>1992</td>\n",
       "      <td>1076.774924</td>\n",
       "      <td>Denmark</td>\n",
       "      <td>4306.0</td>\n",
       "      <td>0.250064</td>\n",
       "      <td>0.117710</td>\n",
       "    </tr>\n",
       "    <tr>\n",
       "      <th>1</th>\n",
       "      <td>BA</td>\n",
       "      <td>2000</td>\n",
       "      <td>235.254321</td>\n",
       "      <td>Bosnia and Herzegovina</td>\n",
       "      <td>835.0</td>\n",
       "      <td>0.281742</td>\n",
       "      <td>0.219808</td>\n",
       "    </tr>\n",
       "    <tr>\n",
       "      <th>10</th>\n",
       "      <td>EL</td>\n",
       "      <td>1990</td>\n",
       "      <td>2002.391010</td>\n",
       "      <td>Greece</td>\n",
       "      <td>6566.0</td>\n",
       "      <td>0.304964</td>\n",
       "      <td>0.027761</td>\n",
       "    </tr>\n",
       "    <tr>\n",
       "      <th>20</th>\n",
       "      <td>PT</td>\n",
       "      <td>2005</td>\n",
       "      <td>1792.536607</td>\n",
       "      <td>Portugal</td>\n",
       "      <td>5034.0</td>\n",
       "      <td>0.356086</td>\n",
       "      <td>0.042458</td>\n",
       "    </tr>\n",
       "    <tr>\n",
       "      <th>17</th>\n",
       "      <td>MK</td>\n",
       "      <td>1993</td>\n",
       "      <td>280.791575</td>\n",
       "      <td>Macedonia</td>\n",
       "      <td>671.0</td>\n",
       "      <td>0.418467</td>\n",
       "      <td>0.056295</td>\n",
       "    </tr>\n",
       "    <tr>\n",
       "      <th>3</th>\n",
       "      <td>BA</td>\n",
       "      <td>2012</td>\n",
       "      <td>390.732372</td>\n",
       "      <td>Bosnia and Herzegovina</td>\n",
       "      <td>835.0</td>\n",
       "      <td>0.467943</td>\n",
       "      <td>0.124678</td>\n",
       "    </tr>\n",
       "    <tr>\n",
       "      <th>26</th>\n",
       "      <td>RS</td>\n",
       "      <td>1990</td>\n",
       "      <td>1727.072312</td>\n",
       "      <td>Serbia</td>\n",
       "      <td>2370.0</td>\n",
       "      <td>0.728722</td>\n",
       "      <td>0.010925</td>\n",
       "    </tr>\n",
       "  </tbody>\n",
       "</table>\n",
       "</div>"
      ],
      "text/plain": [
       "   ISO_2  Year       losses            country_name  sensitivity  fraction  \\\n",
       "39    ES  2009   169.657531                   Spain      31220.0  0.005434   \n",
       "41    ES  2015   177.685193                   Spain      31220.0  0.005691   \n",
       "14    IT  2006   455.745423                   Italy      45938.0  0.009921   \n",
       "42    ES  2016   314.394790                   Spain      31220.0  0.010070   \n",
       "13    IT  1997  1000.940996                   Italy      45938.0  0.021789   \n",
       "23    RO  2001   184.290000                 Romania       8083.0  0.022800   \n",
       "15    IT  2012  1081.000000                   Italy      45938.0  0.023532   \n",
       "30    SK  2012    79.847153                Slovakia       3265.0  0.024455   \n",
       "38    ES  2005   920.859606                   Spain      31220.0  0.029496   \n",
       "18    PL  2003   414.131728                  Poland      12593.0  0.032886   \n",
       "40    ES  2012  1060.618103                   Spain      31220.0  0.033972   \n",
       "9     DE  2003  1808.980454                 Germany      51266.0  0.035286   \n",
       "33    ES  1992  1139.841437                   Spain      31220.0  0.036510   \n",
       "34    ES  1993  1263.223871                   Spain      31220.0  0.040462   \n",
       "12    HU  2000   168.630029                 Hungary       4067.0  0.041463   \n",
       "27    RS  2011    99.930802                  Serbia       2370.0  0.042165   \n",
       "4     HR  2000    75.866760                 Croatia       1722.0  0.044057   \n",
       "35    ES  1994  1471.554226                   Spain      31220.0  0.047135   \n",
       "19    PL  2006   663.498334                  Poland      12593.0  0.052688   \n",
       "36    ES  1995  1653.640119                   Spain      31220.0  0.052967   \n",
       "29    SK  2003   185.027215                Slovakia       3265.0  0.056670   \n",
       "7     FR  1989  2780.000000                  France      48007.0  0.057908   \n",
       "31    SI  2003    92.563704                Slovenia       1564.0  0.059184   \n",
       "21    PT  2012   376.226606                Portugal       5034.0  0.074737   \n",
       "24    RO  2003   616.926263                 Romania       8083.0  0.076324   \n",
       "5     HR  2012   142.683077                 Croatia       1722.0  0.082859   \n",
       "32    SI  2012   130.493361                Slovenia       1564.0  0.083436   \n",
       "8     FR  2003  4635.056689                  France      48007.0  0.096550   \n",
       "22    RO  2000   836.980831                 Romania       8083.0  0.103548   \n",
       "25    RO  2012   852.698110                 Romania       8083.0  0.105493   \n",
       "2     BA  2011    96.930012  Bosnia and Herzegovina        835.0  0.116084   \n",
       "0     AL  1990   171.847366                 Albania       1431.0  0.120089   \n",
       "37    ES  1999  4484.311865                   Spain      31220.0  0.143636   \n",
       "11    HU  1992   721.820057                 Hungary       4067.0  0.177482   \n",
       "28    RS  2012   424.515140                  Serbia       2370.0  0.179120   \n",
       "16    LT  2006   240.930949               Lithuania       1149.0  0.209688   \n",
       "6     DK  1992  1076.774924                 Denmark       4306.0  0.250064   \n",
       "1     BA  2000   235.254321  Bosnia and Herzegovina        835.0  0.281742   \n",
       "10    EL  1990  2002.391010                  Greece       6566.0  0.304964   \n",
       "20    PT  2005  1792.536607                Portugal       5034.0  0.356086   \n",
       "17    MK  1993   280.791575               Macedonia        671.0  0.418467   \n",
       "3     BA  2012   390.732372  Bosnia and Herzegovina        835.0  0.467943   \n",
       "26    RS  1990  1727.072312                  Serbia       2370.0  0.728722   \n",
       "\n",
       "           med  \n",
       "39    0.413097  \n",
       "41    0.477742  \n",
       "14    0.520275  \n",
       "42    0.493547  \n",
       "13    0.376713  \n",
       "23    0.236878  \n",
       "15    0.294271  \n",
       "30    0.484501  \n",
       "38    0.172027  \n",
       "18    0.361522  \n",
       "40    0.202122  \n",
       "9     0.272731  \n",
       "33    0.409932  \n",
       "34    0.374756  \n",
       "12    0.401523  \n",
       "27    0.232054  \n",
       "4     0.255371  \n",
       "35    0.200042  \n",
       "19    0.062116  \n",
       "36    0.124639  \n",
       "29    0.329743  \n",
       "7  -999.000000  \n",
       "31    0.168102  \n",
       "21    0.090349  \n",
       "24    0.449441  \n",
       "5     0.023186  \n",
       "32    0.032231  \n",
       "8     0.244741  \n",
       "22    0.252091  \n",
       "25    0.290525  \n",
       "2     0.206383  \n",
       "0     0.016749  \n",
       "37    0.405226  \n",
       "11    0.181803  \n",
       "28    0.212613  \n",
       "16    0.056235  \n",
       "6     0.117710  \n",
       "1     0.219808  \n",
       "10    0.027761  \n",
       "20    0.042458  \n",
       "17    0.056295  \n",
       "3     0.124678  \n",
       "26    0.010925  "
      ]
     },
     "execution_count": 32,
     "metadata": {},
     "output_type": "execute_result"
    }
   ],
   "source": [
    "df_grouped"
   ]
  },
  {
   "cell_type": "markdown",
   "id": "339ed9db",
   "metadata": {},
   "source": [
    "Now i can iterate through all the drought events and find the **median** value of drought frequency for the specific country and the specific year. We save the values in one list of tuples."
   ]
  },
  {
   "cell_type": "code",
   "execution_count": 33,
   "id": "7d387975",
   "metadata": {},
   "outputs": [
    {
     "name": "stdout",
     "output_type": "stream",
     "text": [
      "excluding the following row:\n",
      "ISO_2                   IT\n",
      "Year                  2006\n",
      "losses          455.745423\n",
      "country_name         Italy\n",
      "sensitivity        45938.0\n",
      "fraction          0.009921\n",
      "med               0.520275\n",
      "Name: 14, dtype: object\n",
      "excluding the following row as the drought median is above 0.5:\n",
      "ISO_2                 FR\n",
      "Year                1989\n",
      "losses            2780.0\n",
      "country_name      France\n",
      "sensitivity      48007.0\n",
      "fraction        0.057908\n",
      "med               -999.0\n",
      "Name: 7, dtype: object\n"
     ]
    }
   ],
   "source": [
    "x_y_value = []\n",
    "#y_value = []\n",
    "for _, row in df_grouped.iterrows():\n",
    "    # if the fraction of losses is higher than 0.5\n",
    "    if(row.med > 0.5):\n",
    "        print(\"excluding the following row:\\n{0}\".format(row))\n",
    "    else:\n",
    "        med = final.query(\"year==@row.Year and NUTS_ID==@row.ISO_2\").med\n",
    "        if(not med.empty):\n",
    "            x_y_value.append((float(med),float(row.fraction)))\n",
    "        else:\n",
    "            print(\"excluding the following row as the drought median is above 0.5:\\n{0}\".format(row))"
   ]
  },
  {
   "cell_type": "code",
   "execution_count": 34,
   "id": "68dd020a-a889-42a4-adc7-833c0e98d8b8",
   "metadata": {},
   "outputs": [],
   "source": [
    "#len(x_y_value)"
   ]
  },
  {
   "cell_type": "code",
   "execution_count": 35,
   "id": "bc573d3f-fdea-45f4-a7dd-c26f12c25469",
   "metadata": {},
   "outputs": [],
   "source": [
    "#x_y_value"
   ]
  },
  {
   "cell_type": "markdown",
   "id": "eb39ebcb",
   "metadata": {},
   "source": [
    "## Base curve fitting\n",
    "\n",
    "In addition to plotting data points from our observations and models, we must often fit them to a theoretical model to extract important parameters. In this case we will use a  __power-law__.\n",
    "\n",
    "`curve_fit` method is used to estimate the parameters for the power law"
   ]
  },
  {
   "cell_type": "code",
   "execution_count": 36,
   "id": "08f9f184",
   "metadata": {},
   "outputs": [],
   "source": [
    "# importing modules.\n",
    "from scipy.optimize import curve_fit\n",
    "import numpy as np\n",
    "from matplotlib import pyplot as plt\n",
    "import matplotlib as mpl"
   ]
  },
  {
   "cell_type": "markdown",
   "id": "dccf712a",
   "metadata": {},
   "source": [
    "The general formula of the power law can be expressed as:\n",
    "$$y=ax^b$$"
   ]
  },
  {
   "cell_type": "markdown",
   "id": "5650ee01",
   "metadata": {},
   "source": [
    "First, we define the function for the power law in python"
   ]
  },
  {
   "cell_type": "code",
   "execution_count": 37,
   "id": "75866785",
   "metadata": {},
   "outputs": [],
   "source": [
    "# Function to calculate the power-law with constants a and b\n",
    "def power_law(x, a, b):\n",
    "    return a*np.power(x, b)"
   ]
  },
  {
   "cell_type": "code",
   "execution_count": 38,
   "id": "98ac08f1-8449-474f-a946-0d830fd560b3",
   "metadata": {},
   "outputs": [],
   "source": [
    "#power_law(0.365138, parameter_a_paper, parameter_b_paper) * 2000"
   ]
  },
  {
   "cell_type": "code",
   "execution_count": 39,
   "id": "ab0fe2f4-f315-4803-b5cb-0e9dc658c866",
   "metadata": {},
   "outputs": [],
   "source": [
    "# to use the exact peseta median values uncomment this\n",
    "#median_str = \"0.0181\t0.24365\t0.26385\t0.10643\t0.28862\t0.02242\t0.10578\t0.30425\t0.22983\t0.28296\t0.02583\t0.0561\t0.47659\t0.39671\t0.42441\t0.2608\t0.0566\t0.05048\t0.37318\t0.10734\t0.02202\t0.07051\t0.26963\t0.28281\t0.38584\t0.31186\t0.03946\t0.21791\t0.23632\t0.33989\t0.46882\t0.38046\t0.15267\t0.47553\t0.35829\t0.21763\t0.08956\t0.37677\t0.14022\t0.38941\t0.2059\t0.46321\t0.49902\"\n",
    "#sen_loss_str =\"0.121446901461531\t0.279399431229263\t0.115118778762771\t0.464052698720181\t0.044057351708753\t0.0828589296146767\t0.250050308418772\t0.0579082217176662\t0.0965496008668505\t0.0352861634143614\t0.304963601883235\t0.177482187671352\t0.0414630019895263\t0.0217889046482376\t0.00992085807300785\t0.0235316627286041\t0.209687510430815\t0.420558594852716\t0.0304531015698578\t0.0487902297369645\t0.356085937046095\t0.0747371088399698\t0.103548290342262\t0.0227997030805394\t0.0763239221969144\t0.105492776206919\t0.730263134235891\t0.0422540387605263\t0.179499002121022\t0.0566698973395268\t0.0244554832440829\t0.0591839537290976\t0.0834356527107162\t0.0365099755695067\t0.0404620073991031\t0.0471349848161435\t0.0529673324484305\t0.14363587010386\t0.0294958233867673\t0.00543425787473591\t0.0339723927941819\t0.00569138990347745\t0.0100703007696731\"\n",
    "\n",
    "#median_v = [float(i) for i in median_str.split()]\n",
    "#sen_loss_v = [float(i) for i in sen_loss_str.split()]\n",
    "#x_y_value = list(zip(median_v,sen_loss_v))"
   ]
  },
  {
   "cell_type": "markdown",
   "id": "af27819b-e8e4-418d-b10f-068797a2c8df",
   "metadata": {},
   "source": [
    "Then we convert our python list to np array and sort it by x values"
   ]
  },
  {
   "cell_type": "code",
   "execution_count": 40,
   "id": "15d56422-628f-4317-a74b-b59eec135248",
   "metadata": {},
   "outputs": [],
   "source": [
    "x_y = np.array(x_y_value)\n",
    "x_y = x_y[x_y[:,0].argsort()]\n",
    "# save x as sep array\n",
    "x = x_y[:, 0]\n",
    "# save y as sep array\n",
    "y = x_y[:,1]"
   ]
  },
  {
   "cell_type": "code",
   "execution_count": 41,
   "id": "62918c6a-d213-4668-966d-8d3df34ebe96",
   "metadata": {},
   "outputs": [],
   "source": [
    "#x_y"
   ]
  },
  {
   "cell_type": "markdown",
   "id": "1b8e7d85-9468-4ad1-a7d6-dd5bd6c31d1c",
   "metadata": {},
   "source": [
    "__plotting__ First we plot directly from pandas using interactive Bokeh element"
   ]
  },
  {
   "cell_type": "code",
   "execution_count": 42,
   "id": "4d201632-aba6-47de-a4df-e75845d4c623",
   "metadata": {},
   "outputs": [
    {
     "data": {
      "text/html": [
       "<div class=\"bk-root\">\n",
       "        <a href=\"https://bokeh.org\" target=\"_blank\" class=\"bk-logo bk-logo-small bk-logo-notebook\"></a>\n",
       "        <span id=\"1002\">Loading BokehJS ...</span>\n",
       "    </div>\n"
      ]
     },
     "metadata": {},
     "output_type": "display_data"
    },
    {
     "data": {
      "application/javascript": [
       "(function(root) {\n",
       "  function now() {\n",
       "    return new Date();\n",
       "  }\n",
       "\n",
       "  const force = true;\n",
       "\n",
       "  if (typeof root._bokeh_onload_callbacks === \"undefined\" || force === true) {\n",
       "    root._bokeh_onload_callbacks = [];\n",
       "    root._bokeh_is_loading = undefined;\n",
       "  }\n",
       "\n",
       "const JS_MIME_TYPE = 'application/javascript';\n",
       "  const HTML_MIME_TYPE = 'text/html';\n",
       "  const EXEC_MIME_TYPE = 'application/vnd.bokehjs_exec.v0+json';\n",
       "  const CLASS_NAME = 'output_bokeh rendered_html';\n",
       "\n",
       "  /**\n",
       "   * Render data to the DOM node\n",
       "   */\n",
       "  function render(props, node) {\n",
       "    const script = document.createElement(\"script\");\n",
       "    node.appendChild(script);\n",
       "  }\n",
       "\n",
       "  /**\n",
       "   * Handle when an output is cleared or removed\n",
       "   */\n",
       "  function handleClearOutput(event, handle) {\n",
       "    const cell = handle.cell;\n",
       "\n",
       "    const id = cell.output_area._bokeh_element_id;\n",
       "    const server_id = cell.output_area._bokeh_server_id;\n",
       "    // Clean up Bokeh references\n",
       "    if (id != null && id in Bokeh.index) {\n",
       "      Bokeh.index[id].model.document.clear();\n",
       "      delete Bokeh.index[id];\n",
       "    }\n",
       "\n",
       "    if (server_id !== undefined) {\n",
       "      // Clean up Bokeh references\n",
       "      const cmd_clean = \"from bokeh.io.state import curstate; print(curstate().uuid_to_server['\" + server_id + \"'].get_sessions()[0].document.roots[0]._id)\";\n",
       "      cell.notebook.kernel.execute(cmd_clean, {\n",
       "        iopub: {\n",
       "          output: function(msg) {\n",
       "            const id = msg.content.text.trim();\n",
       "            if (id in Bokeh.index) {\n",
       "              Bokeh.index[id].model.document.clear();\n",
       "              delete Bokeh.index[id];\n",
       "            }\n",
       "          }\n",
       "        }\n",
       "      });\n",
       "      // Destroy server and session\n",
       "      const cmd_destroy = \"import bokeh.io.notebook as ion; ion.destroy_server('\" + server_id + \"')\";\n",
       "      cell.notebook.kernel.execute(cmd_destroy);\n",
       "    }\n",
       "  }\n",
       "\n",
       "  /**\n",
       "   * Handle when a new output is added\n",
       "   */\n",
       "  function handleAddOutput(event, handle) {\n",
       "    const output_area = handle.output_area;\n",
       "    const output = handle.output;\n",
       "\n",
       "    // limit handleAddOutput to display_data with EXEC_MIME_TYPE content only\n",
       "    if ((output.output_type != \"display_data\") || (!Object.prototype.hasOwnProperty.call(output.data, EXEC_MIME_TYPE))) {\n",
       "      return\n",
       "    }\n",
       "\n",
       "    const toinsert = output_area.element.find(\".\" + CLASS_NAME.split(' ')[0]);\n",
       "\n",
       "    if (output.metadata[EXEC_MIME_TYPE][\"id\"] !== undefined) {\n",
       "      toinsert[toinsert.length - 1].firstChild.textContent = output.data[JS_MIME_TYPE];\n",
       "      // store reference to embed id on output_area\n",
       "      output_area._bokeh_element_id = output.metadata[EXEC_MIME_TYPE][\"id\"];\n",
       "    }\n",
       "    if (output.metadata[EXEC_MIME_TYPE][\"server_id\"] !== undefined) {\n",
       "      const bk_div = document.createElement(\"div\");\n",
       "      bk_div.innerHTML = output.data[HTML_MIME_TYPE];\n",
       "      const script_attrs = bk_div.children[0].attributes;\n",
       "      for (let i = 0; i < script_attrs.length; i++) {\n",
       "        toinsert[toinsert.length - 1].firstChild.setAttribute(script_attrs[i].name, script_attrs[i].value);\n",
       "        toinsert[toinsert.length - 1].firstChild.textContent = bk_div.children[0].textContent\n",
       "      }\n",
       "      // store reference to server id on output_area\n",
       "      output_area._bokeh_server_id = output.metadata[EXEC_MIME_TYPE][\"server_id\"];\n",
       "    }\n",
       "  }\n",
       "\n",
       "  function register_renderer(events, OutputArea) {\n",
       "\n",
       "    function append_mime(data, metadata, element) {\n",
       "      // create a DOM node to render to\n",
       "      const toinsert = this.create_output_subarea(\n",
       "        metadata,\n",
       "        CLASS_NAME,\n",
       "        EXEC_MIME_TYPE\n",
       "      );\n",
       "      this.keyboard_manager.register_events(toinsert);\n",
       "      // Render to node\n",
       "      const props = {data: data, metadata: metadata[EXEC_MIME_TYPE]};\n",
       "      render(props, toinsert[toinsert.length - 1]);\n",
       "      element.append(toinsert);\n",
       "      return toinsert\n",
       "    }\n",
       "\n",
       "    /* Handle when an output is cleared or removed */\n",
       "    events.on('clear_output.CodeCell', handleClearOutput);\n",
       "    events.on('delete.Cell', handleClearOutput);\n",
       "\n",
       "    /* Handle when a new output is added */\n",
       "    events.on('output_added.OutputArea', handleAddOutput);\n",
       "\n",
       "    /**\n",
       "     * Register the mime type and append_mime function with output_area\n",
       "     */\n",
       "    OutputArea.prototype.register_mime_type(EXEC_MIME_TYPE, append_mime, {\n",
       "      /* Is output safe? */\n",
       "      safe: true,\n",
       "      /* Index of renderer in `output_area.display_order` */\n",
       "      index: 0\n",
       "    });\n",
       "  }\n",
       "\n",
       "  // register the mime type if in Jupyter Notebook environment and previously unregistered\n",
       "  if (root.Jupyter !== undefined) {\n",
       "    const events = require('base/js/events');\n",
       "    const OutputArea = require('notebook/js/outputarea').OutputArea;\n",
       "\n",
       "    if (OutputArea.prototype.mime_types().indexOf(EXEC_MIME_TYPE) == -1) {\n",
       "      register_renderer(events, OutputArea);\n",
       "    }\n",
       "  }\n",
       "  if (typeof (root._bokeh_timeout) === \"undefined\" || force === true) {\n",
       "    root._bokeh_timeout = Date.now() + 5000;\n",
       "    root._bokeh_failed_load = false;\n",
       "  }\n",
       "\n",
       "  const NB_LOAD_WARNING = {'data': {'text/html':\n",
       "     \"<div style='background-color: #fdd'>\\n\"+\n",
       "     \"<p>\\n\"+\n",
       "     \"BokehJS does not appear to have successfully loaded. If loading BokehJS from CDN, this \\n\"+\n",
       "     \"may be due to a slow or bad network connection. Possible fixes:\\n\"+\n",
       "     \"</p>\\n\"+\n",
       "     \"<ul>\\n\"+\n",
       "     \"<li>re-rerun `output_notebook()` to attempt to load from CDN again, or</li>\\n\"+\n",
       "     \"<li>use INLINE resources instead, as so:</li>\\n\"+\n",
       "     \"</ul>\\n\"+\n",
       "     \"<code>\\n\"+\n",
       "     \"from bokeh.resources import INLINE\\n\"+\n",
       "     \"output_notebook(resources=INLINE)\\n\"+\n",
       "     \"</code>\\n\"+\n",
       "     \"</div>\"}};\n",
       "\n",
       "  function display_loaded() {\n",
       "    const el = document.getElementById(\"1002\");\n",
       "    if (el != null) {\n",
       "      el.textContent = \"BokehJS is loading...\";\n",
       "    }\n",
       "    if (root.Bokeh !== undefined) {\n",
       "      if (el != null) {\n",
       "        el.textContent = \"BokehJS \" + root.Bokeh.version + \" successfully loaded.\";\n",
       "      }\n",
       "    } else if (Date.now() < root._bokeh_timeout) {\n",
       "      setTimeout(display_loaded, 100)\n",
       "    }\n",
       "  }\n",
       "\n",
       "  function run_callbacks() {\n",
       "    try {\n",
       "      root._bokeh_onload_callbacks.forEach(function(callback) {\n",
       "        if (callback != null)\n",
       "          callback();\n",
       "      });\n",
       "    } finally {\n",
       "      delete root._bokeh_onload_callbacks\n",
       "    }\n",
       "    console.debug(\"Bokeh: all callbacks have finished\");\n",
       "  }\n",
       "\n",
       "  function load_libs(css_urls, js_urls, callback) {\n",
       "    if (css_urls == null) css_urls = [];\n",
       "    if (js_urls == null) js_urls = [];\n",
       "\n",
       "    root._bokeh_onload_callbacks.push(callback);\n",
       "    if (root._bokeh_is_loading > 0) {\n",
       "      console.debug(\"Bokeh: BokehJS is being loaded, scheduling callback at\", now());\n",
       "      return null;\n",
       "    }\n",
       "    if (js_urls == null || js_urls.length === 0) {\n",
       "      run_callbacks();\n",
       "      return null;\n",
       "    }\n",
       "    console.debug(\"Bokeh: BokehJS not loaded, scheduling load and callback at\", now());\n",
       "    root._bokeh_is_loading = css_urls.length + js_urls.length;\n",
       "\n",
       "    function on_load() {\n",
       "      root._bokeh_is_loading--;\n",
       "      if (root._bokeh_is_loading === 0) {\n",
       "        console.debug(\"Bokeh: all BokehJS libraries/stylesheets loaded\");\n",
       "        run_callbacks()\n",
       "      }\n",
       "    }\n",
       "\n",
       "    function on_error(url) {\n",
       "      console.error(\"failed to load \" + url);\n",
       "    }\n",
       "\n",
       "    for (let i = 0; i < css_urls.length; i++) {\n",
       "      const url = css_urls[i];\n",
       "      const element = document.createElement(\"link\");\n",
       "      element.onload = on_load;\n",
       "      element.onerror = on_error.bind(null, url);\n",
       "      element.rel = \"stylesheet\";\n",
       "      element.type = \"text/css\";\n",
       "      element.href = url;\n",
       "      console.debug(\"Bokeh: injecting link tag for BokehJS stylesheet: \", url);\n",
       "      document.body.appendChild(element);\n",
       "    }\n",
       "\n",
       "    for (let i = 0; i < js_urls.length; i++) {\n",
       "      const url = js_urls[i];\n",
       "      const element = document.createElement('script');\n",
       "      element.onload = on_load;\n",
       "      element.onerror = on_error.bind(null, url);\n",
       "      element.async = false;\n",
       "      element.src = url;\n",
       "      console.debug(\"Bokeh: injecting script tag for BokehJS library: \", url);\n",
       "      document.head.appendChild(element);\n",
       "    }\n",
       "  };\n",
       "\n",
       "  function inject_raw_css(css) {\n",
       "    const element = document.createElement(\"style\");\n",
       "    element.appendChild(document.createTextNode(css));\n",
       "    document.body.appendChild(element);\n",
       "  }\n",
       "\n",
       "  const js_urls = [\"https://cdn.bokeh.org/bokeh/release/bokeh-2.4.3.min.js\", \"https://cdn.bokeh.org/bokeh/release/bokeh-gl-2.4.3.min.js\", \"https://cdn.bokeh.org/bokeh/release/bokeh-widgets-2.4.3.min.js\", \"https://cdn.bokeh.org/bokeh/release/bokeh-tables-2.4.3.min.js\", \"https://cdn.bokeh.org/bokeh/release/bokeh-mathjax-2.4.3.min.js\"];\n",
       "  const css_urls = [];\n",
       "\n",
       "  const inline_js = [    function(Bokeh) {\n",
       "      Bokeh.set_log_level(\"info\");\n",
       "    },\n",
       "function(Bokeh) {\n",
       "    }\n",
       "  ];\n",
       "\n",
       "  function run_inline_js() {\n",
       "    if (root.Bokeh !== undefined || force === true) {\n",
       "          for (let i = 0; i < inline_js.length; i++) {\n",
       "      inline_js[i].call(root, root.Bokeh);\n",
       "    }\n",
       "if (force === true) {\n",
       "        display_loaded();\n",
       "      }} else if (Date.now() < root._bokeh_timeout) {\n",
       "      setTimeout(run_inline_js, 100);\n",
       "    } else if (!root._bokeh_failed_load) {\n",
       "      console.log(\"Bokeh: BokehJS failed to load within specified timeout.\");\n",
       "      root._bokeh_failed_load = true;\n",
       "    } else if (force !== true) {\n",
       "      const cell = $(document.getElementById(\"1002\")).parents('.cell').data().cell;\n",
       "      cell.output_area.append_execute_result(NB_LOAD_WARNING)\n",
       "    }\n",
       "  }\n",
       "\n",
       "  if (root._bokeh_is_loading === 0) {\n",
       "    console.debug(\"Bokeh: BokehJS loaded, going straight to plotting\");\n",
       "    run_inline_js();\n",
       "  } else {\n",
       "    load_libs(css_urls, js_urls, function() {\n",
       "      console.debug(\"Bokeh: BokehJS plotting callback run at\", now());\n",
       "      run_inline_js();\n",
       "    });\n",
       "  }\n",
       "}(window));"
      ],
      "application/vnd.bokehjs_load.v0+json": "(function(root) {\n  function now() {\n    return new Date();\n  }\n\n  const force = true;\n\n  if (typeof root._bokeh_onload_callbacks === \"undefined\" || force === true) {\n    root._bokeh_onload_callbacks = [];\n    root._bokeh_is_loading = undefined;\n  }\n\n\n  if (typeof (root._bokeh_timeout) === \"undefined\" || force === true) {\n    root._bokeh_timeout = Date.now() + 5000;\n    root._bokeh_failed_load = false;\n  }\n\n  const NB_LOAD_WARNING = {'data': {'text/html':\n     \"<div style='background-color: #fdd'>\\n\"+\n     \"<p>\\n\"+\n     \"BokehJS does not appear to have successfully loaded. If loading BokehJS from CDN, this \\n\"+\n     \"may be due to a slow or bad network connection. Possible fixes:\\n\"+\n     \"</p>\\n\"+\n     \"<ul>\\n\"+\n     \"<li>re-rerun `output_notebook()` to attempt to load from CDN again, or</li>\\n\"+\n     \"<li>use INLINE resources instead, as so:</li>\\n\"+\n     \"</ul>\\n\"+\n     \"<code>\\n\"+\n     \"from bokeh.resources import INLINE\\n\"+\n     \"output_notebook(resources=INLINE)\\n\"+\n     \"</code>\\n\"+\n     \"</div>\"}};\n\n  function display_loaded() {\n    const el = document.getElementById(\"1002\");\n    if (el != null) {\n      el.textContent = \"BokehJS is loading...\";\n    }\n    if (root.Bokeh !== undefined) {\n      if (el != null) {\n        el.textContent = \"BokehJS \" + root.Bokeh.version + \" successfully loaded.\";\n      }\n    } else if (Date.now() < root._bokeh_timeout) {\n      setTimeout(display_loaded, 100)\n    }\n  }\n\n  function run_callbacks() {\n    try {\n      root._bokeh_onload_callbacks.forEach(function(callback) {\n        if (callback != null)\n          callback();\n      });\n    } finally {\n      delete root._bokeh_onload_callbacks\n    }\n    console.debug(\"Bokeh: all callbacks have finished\");\n  }\n\n  function load_libs(css_urls, js_urls, callback) {\n    if (css_urls == null) css_urls = [];\n    if (js_urls == null) js_urls = [];\n\n    root._bokeh_onload_callbacks.push(callback);\n    if (root._bokeh_is_loading > 0) {\n      console.debug(\"Bokeh: BokehJS is being loaded, scheduling callback at\", now());\n      return null;\n    }\n    if (js_urls == null || js_urls.length === 0) {\n      run_callbacks();\n      return null;\n    }\n    console.debug(\"Bokeh: BokehJS not loaded, scheduling load and callback at\", now());\n    root._bokeh_is_loading = css_urls.length + js_urls.length;\n\n    function on_load() {\n      root._bokeh_is_loading--;\n      if (root._bokeh_is_loading === 0) {\n        console.debug(\"Bokeh: all BokehJS libraries/stylesheets loaded\");\n        run_callbacks()\n      }\n    }\n\n    function on_error(url) {\n      console.error(\"failed to load \" + url);\n    }\n\n    for (let i = 0; i < css_urls.length; i++) {\n      const url = css_urls[i];\n      const element = document.createElement(\"link\");\n      element.onload = on_load;\n      element.onerror = on_error.bind(null, url);\n      element.rel = \"stylesheet\";\n      element.type = \"text/css\";\n      element.href = url;\n      console.debug(\"Bokeh: injecting link tag for BokehJS stylesheet: \", url);\n      document.body.appendChild(element);\n    }\n\n    for (let i = 0; i < js_urls.length; i++) {\n      const url = js_urls[i];\n      const element = document.createElement('script');\n      element.onload = on_load;\n      element.onerror = on_error.bind(null, url);\n      element.async = false;\n      element.src = url;\n      console.debug(\"Bokeh: injecting script tag for BokehJS library: \", url);\n      document.head.appendChild(element);\n    }\n  };\n\n  function inject_raw_css(css) {\n    const element = document.createElement(\"style\");\n    element.appendChild(document.createTextNode(css));\n    document.body.appendChild(element);\n  }\n\n  const js_urls = [\"https://cdn.bokeh.org/bokeh/release/bokeh-2.4.3.min.js\", \"https://cdn.bokeh.org/bokeh/release/bokeh-gl-2.4.3.min.js\", \"https://cdn.bokeh.org/bokeh/release/bokeh-widgets-2.4.3.min.js\", \"https://cdn.bokeh.org/bokeh/release/bokeh-tables-2.4.3.min.js\", \"https://cdn.bokeh.org/bokeh/release/bokeh-mathjax-2.4.3.min.js\"];\n  const css_urls = [];\n\n  const inline_js = [    function(Bokeh) {\n      Bokeh.set_log_level(\"info\");\n    },\nfunction(Bokeh) {\n    }\n  ];\n\n  function run_inline_js() {\n    if (root.Bokeh !== undefined || force === true) {\n          for (let i = 0; i < inline_js.length; i++) {\n      inline_js[i].call(root, root.Bokeh);\n    }\nif (force === true) {\n        display_loaded();\n      }} else if (Date.now() < root._bokeh_timeout) {\n      setTimeout(run_inline_js, 100);\n    } else if (!root._bokeh_failed_load) {\n      console.log(\"Bokeh: BokehJS failed to load within specified timeout.\");\n      root._bokeh_failed_load = true;\n    } else if (force !== true) {\n      const cell = $(document.getElementById(\"1002\")).parents('.cell').data().cell;\n      cell.output_area.append_execute_result(NB_LOAD_WARNING)\n    }\n  }\n\n  if (root._bokeh_is_loading === 0) {\n    console.debug(\"Bokeh: BokehJS loaded, going straight to plotting\");\n    run_inline_js();\n  } else {\n    load_libs(css_urls, js_urls, function() {\n      console.debug(\"Bokeh: BokehJS plotting callback run at\", now());\n      run_inline_js();\n    });\n  }\n}(window));"
     },
     "metadata": {},
     "output_type": "display_data"
    }
   ],
   "source": [
    "#from bokeh.plotting import figure, show\n",
    "import pandas_bokeh\n",
    "from bokeh.io import push_notebook, show, output_notebook\n",
    "from bokeh.layouts import row \n",
    "from bokeh.plotting import figure\n",
    "\n",
    "output_notebook()"
   ]
  },
  {
   "cell_type": "code",
   "execution_count": 43,
   "id": "c39f77e7-2e79-419d-86e4-73143b6e014d",
   "metadata": {},
   "outputs": [],
   "source": [
    "#x_y_value"
   ]
  },
  {
   "cell_type": "code",
   "execution_count": 44,
   "id": "83dac54e-7427-4789-96d7-8629d6aca3a0",
   "metadata": {},
   "outputs": [],
   "source": [
    "df_plot = pd.DataFrame(x_y_value, columns =['frequency', 'damage']) "
   ]
  },
  {
   "cell_type": "code",
   "execution_count": 45,
   "id": "8b1f4d4d-d877-408e-af12-c1761e51cc25",
   "metadata": {},
   "outputs": [
    {
     "data": {
      "text/plain": [
       "frequency    0.124678\n",
       "damage       0.467943\n",
       "Name: 39, dtype: float64"
      ]
     },
     "execution_count": 45,
     "metadata": {},
     "output_type": "execute_result"
    }
   ],
   "source": [
    "df_plot.iloc[39]"
   ]
  },
  {
   "cell_type": "code",
   "execution_count": 46,
   "id": "1534f26d-fa95-41bf-8c22-8a768afb0da3",
   "metadata": {},
   "outputs": [
    {
     "data": {
      "text/plain": [
       "41"
      ]
     },
     "execution_count": 46,
     "metadata": {},
     "output_type": "execute_result"
    }
   ],
   "source": [
    "len(df_plot[df_plot[\"damage\"]<0.8])"
   ]
  },
  {
   "cell_type": "code",
   "execution_count": 47,
   "id": "9cdb2bbd-ed41-4ce3-9ea3-e3293c62503a",
   "metadata": {},
   "outputs": [
    {
     "data": {
      "text/html": [
       "<div style=\"display: table;\"><div style=\"display: table-row;\"><div style=\"display: table-cell;\"><b title=\"bokeh.models.renderers.GlyphRenderer\">GlyphRenderer</b>(</div><div style=\"display: table-cell;\">id&nbsp;=&nbsp;'1039', <span id=\"1042\" style=\"cursor: pointer;\">&hellip;)</span></div></div><div class=\"1041\" style=\"display: none;\"><div style=\"display: table-cell;\"></div><div style=\"display: table-cell;\">coordinates&nbsp;=&nbsp;None,</div></div><div class=\"1041\" style=\"display: none;\"><div style=\"display: table-cell;\"></div><div style=\"display: table-cell;\">data_source&nbsp;=&nbsp;ColumnDataSource(id='1034', ...),</div></div><div class=\"1041\" style=\"display: none;\"><div style=\"display: table-cell;\"></div><div style=\"display: table-cell;\">glyph&nbsp;=&nbsp;Circle(id='1036', ...),</div></div><div class=\"1041\" style=\"display: none;\"><div style=\"display: table-cell;\"></div><div style=\"display: table-cell;\">group&nbsp;=&nbsp;None,</div></div><div class=\"1041\" style=\"display: none;\"><div style=\"display: table-cell;\"></div><div style=\"display: table-cell;\">hover_glyph&nbsp;=&nbsp;None,</div></div><div class=\"1041\" style=\"display: none;\"><div style=\"display: table-cell;\"></div><div style=\"display: table-cell;\">js_event_callbacks&nbsp;=&nbsp;{},</div></div><div class=\"1041\" style=\"display: none;\"><div style=\"display: table-cell;\"></div><div style=\"display: table-cell;\">js_property_callbacks&nbsp;=&nbsp;{},</div></div><div class=\"1041\" style=\"display: none;\"><div style=\"display: table-cell;\"></div><div style=\"display: table-cell;\">level&nbsp;=&nbsp;'glyph',</div></div><div class=\"1041\" style=\"display: none;\"><div style=\"display: table-cell;\"></div><div style=\"display: table-cell;\">muted&nbsp;=&nbsp;False,</div></div><div class=\"1041\" style=\"display: none;\"><div style=\"display: table-cell;\"></div><div style=\"display: table-cell;\">muted_glyph&nbsp;=&nbsp;Circle(id='1038', ...),</div></div><div class=\"1041\" style=\"display: none;\"><div style=\"display: table-cell;\"></div><div style=\"display: table-cell;\">name&nbsp;=&nbsp;None,</div></div><div class=\"1041\" style=\"display: none;\"><div style=\"display: table-cell;\"></div><div style=\"display: table-cell;\">nonselection_glyph&nbsp;=&nbsp;Circle(id='1037', ...),</div></div><div class=\"1041\" style=\"display: none;\"><div style=\"display: table-cell;\"></div><div style=\"display: table-cell;\">selection_glyph&nbsp;=&nbsp;'auto',</div></div><div class=\"1041\" style=\"display: none;\"><div style=\"display: table-cell;\"></div><div style=\"display: table-cell;\">subscribed_events&nbsp;=&nbsp;[],</div></div><div class=\"1041\" style=\"display: none;\"><div style=\"display: table-cell;\"></div><div style=\"display: table-cell;\">syncable&nbsp;=&nbsp;True,</div></div><div class=\"1041\" style=\"display: none;\"><div style=\"display: table-cell;\"></div><div style=\"display: table-cell;\">tags&nbsp;=&nbsp;[],</div></div><div class=\"1041\" style=\"display: none;\"><div style=\"display: table-cell;\"></div><div style=\"display: table-cell;\">view&nbsp;=&nbsp;CDSView(id='1040', ...),</div></div><div class=\"1041\" style=\"display: none;\"><div style=\"display: table-cell;\"></div><div style=\"display: table-cell;\">visible&nbsp;=&nbsp;True,</div></div><div class=\"1041\" style=\"display: none;\"><div style=\"display: table-cell;\"></div><div style=\"display: table-cell;\">x_range_name&nbsp;=&nbsp;'default',</div></div><div class=\"1041\" style=\"display: none;\"><div style=\"display: table-cell;\"></div><div style=\"display: table-cell;\">y_range_name&nbsp;=&nbsp;'default')</div></div></div>\n",
       "<script>\n",
       "(function() {\n",
       "  let expanded = false;\n",
       "  const ellipsis = document.getElementById(\"1042\");\n",
       "  ellipsis.addEventListener(\"click\", function() {\n",
       "    const rows = document.getElementsByClassName(\"1041\");\n",
       "    for (let i = 0; i < rows.length; i++) {\n",
       "      const el = rows[i];\n",
       "      el.style.display = expanded ? \"none\" : \"table-row\";\n",
       "    }\n",
       "    ellipsis.innerHTML = expanded ? \"&hellip;)\" : \"&lsaquo;&lsaquo;&lsaquo;\";\n",
       "    expanded = !expanded;\n",
       "  });\n",
       "})();\n",
       "</script>\n"
      ],
      "text/plain": [
       "GlyphRenderer(id='1039', ...)"
      ]
     },
     "execution_count": 47,
     "metadata": {},
     "output_type": "execute_result"
    }
   ],
   "source": [
    "#y_range=(0, 0.4),\n",
    "p = figure(plot_width=1000, plot_height=600, title = \"prova\",tools=\"pan,wheel_zoom,box_zoom,reset,hover\")\n",
    "p.circle('frequency','damage',source=df_plot,fill_alpha=0.2, size=10)\n",
    "#df_plot.circle(x='frequency', y='damage')"
   ]
  },
  {
   "cell_type": "code",
   "execution_count": 48,
   "id": "1edf4d3f-8ef6-4a9c-9383-23b282f49751",
   "metadata": {},
   "outputs": [
    {
     "data": {
      "text/html": [
       "\n",
       "  <div class=\"bk-root\" id=\"118235fd-282a-497e-b030-3c58fc7f660a\" data-root-id=\"1003\"></div>\n"
      ]
     },
     "metadata": {},
     "output_type": "display_data"
    },
    {
     "data": {
      "application/javascript": [
       "(function(root) {\n",
       "  function embed_document(root) {\n",
       "  const docs_json = {\"a3738add-82b4-4937-b15d-fa44cf477c82\":{\"defs\":[],\"roots\":{\"references\":[{\"attributes\":{\"below\":[{\"id\":\"1014\"}],\"center\":[{\"id\":\"1017\"},{\"id\":\"1021\"}],\"left\":[{\"id\":\"1018\"}],\"renderers\":[{\"id\":\"1039\"}],\"title\":{\"id\":\"1004\"},\"toolbar\":{\"id\":\"1028\"},\"width\":1000,\"x_range\":{\"id\":\"1006\"},\"x_scale\":{\"id\":\"1010\"},\"y_range\":{\"id\":\"1008\"},\"y_scale\":{\"id\":\"1012\"}},\"id\":\"1003\",\"subtype\":\"Figure\",\"type\":\"Plot\"},{\"attributes\":{\"bottom_units\":\"screen\",\"coordinates\":null,\"fill_alpha\":0.5,\"fill_color\":\"lightgrey\",\"group\":null,\"left_units\":\"screen\",\"level\":\"overlay\",\"line_alpha\":1.0,\"line_color\":\"black\",\"line_dash\":[4,4],\"line_width\":2,\"right_units\":\"screen\",\"syncable\":false,\"top_units\":\"screen\"},\"id\":\"1027\",\"type\":\"BoxAnnotation\"},{\"attributes\":{},\"id\":\"1008\",\"type\":\"DataRange1d\"},{\"attributes\":{},\"id\":\"1006\",\"type\":\"DataRange1d\"},{\"attributes\":{\"coordinates\":null,\"formatter\":{\"id\":\"1045\"},\"group\":null,\"major_label_policy\":{\"id\":\"1046\"},\"ticker\":{\"id\":\"1019\"}},\"id\":\"1018\",\"type\":\"LinearAxis\"},{\"attributes\":{\"axis\":{\"id\":\"1014\"},\"coordinates\":null,\"group\":null,\"ticker\":null},\"id\":\"1017\",\"type\":\"Grid\"},{\"attributes\":{\"tools\":[{\"id\":\"1022\"},{\"id\":\"1023\"},{\"id\":\"1024\"},{\"id\":\"1025\"},{\"id\":\"1026\"}]},\"id\":\"1028\",\"type\":\"Toolbar\"},{\"attributes\":{},\"id\":\"1015\",\"type\":\"BasicTicker\"},{\"attributes\":{},\"id\":\"1019\",\"type\":\"BasicTicker\"},{\"attributes\":{\"axis\":{\"id\":\"1018\"},\"coordinates\":null,\"dimension\":1,\"group\":null,\"ticker\":null},\"id\":\"1021\",\"type\":\"Grid\"},{\"attributes\":{\"coordinates\":null,\"formatter\":{\"id\":\"1048\"},\"group\":null,\"major_label_policy\":{\"id\":\"1049\"},\"ticker\":{\"id\":\"1015\"}},\"id\":\"1014\",\"type\":\"LinearAxis\"},{\"attributes\":{},\"id\":\"1010\",\"type\":\"LinearScale\"},{\"attributes\":{\"coordinates\":null,\"data_source\":{\"id\":\"1034\"},\"glyph\":{\"id\":\"1036\"},\"group\":null,\"hover_glyph\":null,\"muted_glyph\":{\"id\":\"1038\"},\"nonselection_glyph\":{\"id\":\"1037\"},\"view\":{\"id\":\"1040\"}},\"id\":\"1039\",\"type\":\"GlyphRenderer\"},{\"attributes\":{\"coordinates\":null,\"group\":null,\"text\":\"prova\"},\"id\":\"1004\",\"type\":\"Title\"},{\"attributes\":{},\"id\":\"1012\",\"type\":\"LinearScale\"},{\"attributes\":{\"source\":{\"id\":\"1034\"}},\"id\":\"1040\",\"type\":\"CDSView\"},{\"attributes\":{},\"id\":\"1045\",\"type\":\"BasicTickFormatter\"},{\"attributes\":{\"overlay\":{\"id\":\"1027\"}},\"id\":\"1024\",\"type\":\"BoxZoomTool\"},{\"attributes\":{},\"id\":\"1046\",\"type\":\"AllLabels\"},{\"attributes\":{\"data\":{\"damage\":{\"__ndarray__\":\"me59fTtCdj8n2xjY2k93P51us+O8n4Q/yGuH/ddPlj/NklsszliXPzrI68WyGJg/hWb0stsKmT8TZj0zJzSePwMn/Zlq1qA/q7sGWNRkoT/JhMwrBxGiPyxCBX5vsaI/5PEErW+3pD+GnRh7ozqlP/VkAxyjlqU/gmx2aa+Opj+Am5OkEyKoP+QLbITn+ao/09U7wYgeqz//O3I31gOtP5qNavNbTa4/c9FDnvghsz91k7rt9omzP3up4ig+NrU/irOa9wlctT80eS6Cebe4P0Wtjggkgro/G4fIF5MBuz8RKcLDq7e9P2gdaysnvr4/8cBWAqliwj9kYNt/vLfGPyVVjRVq7cY/DzfeUwrXyj8+RebKCwHQP3iO6VgOCNI//zclDoaE0z/BgYarHMrWPwa7tSwryNo/n2pMCMfy3T9unTnWsVHnPw==\",\"dtype\":\"float64\",\"order\":\"little\",\"shape\":[41]},\"frequency\":{\"__ndarray__\":\"aRS0IzBw2j9Ly8G+UZPePy1X3utHlt8/n6av7g4c2D/g+YuJBlLOP0xSYrFX1dI/JGifYhEC3z92Pr35+QTGP+DQVnQtI9c/mGs7tCXfyT/1RKota3TRP86NwS9UPNo/+hHghAH81z/WmX/Hi7LZP1AU7qPys80/3j1Wfv9X0D/4TOv+/JrJP+AWavmqza8/gDB2kVXovz8oZ9ujghrVP5hfytBZhMU/WKV4VxUhtz+P/ARjpMPcP/AymuAOvpc/SEBVF5SAoD8UbCVprVPPP6cSXelAItA/liQlXfeX0j9w6WyDwmrKP/B/jqyLJpE/iaYyijrv2T94HDtaVEXHP9ANzKzkNss/UJd/FNHKrD/QdDIfRiK+P1hUIUqtIsw/QB9zs3RtnD9Qe01PE72lPyhVPtDC0qw/SMfI4OXqvz8AysjxBmCGPw==\",\"dtype\":\"float64\",\"order\":\"little\",\"shape\":[41]},\"index\":[0,1,2,3,4,5,6,7,8,9,10,11,12,13,14,15,16,17,18,19,20,21,22,23,24,25,26,27,28,29,30,31,32,33,34,35,36,37,38,39,40]},\"selected\":{\"id\":\"1051\"},\"selection_policy\":{\"id\":\"1050\"}},\"id\":\"1034\",\"type\":\"ColumnDataSource\"},{\"attributes\":{},\"id\":\"1025\",\"type\":\"ResetTool\"},{\"attributes\":{},\"id\":\"1048\",\"type\":\"BasicTickFormatter\"},{\"attributes\":{},\"id\":\"1022\",\"type\":\"PanTool\"},{\"attributes\":{\"fill_alpha\":{\"value\":0.2},\"fill_color\":{\"value\":\"#1f77b4\"},\"hatch_alpha\":{\"value\":0.2},\"line_alpha\":{\"value\":0.2},\"line_color\":{\"value\":\"#1f77b4\"},\"size\":{\"value\":10},\"x\":{\"field\":\"frequency\"},\"y\":{\"field\":\"damage\"}},\"id\":\"1038\",\"type\":\"Circle\"},{\"attributes\":{},\"id\":\"1049\",\"type\":\"AllLabels\"},{\"attributes\":{\"callback\":null},\"id\":\"1026\",\"type\":\"HoverTool\"},{\"attributes\":{},\"id\":\"1051\",\"type\":\"Selection\"},{\"attributes\":{\"fill_alpha\":{\"value\":0.2},\"fill_color\":{\"value\":\"#1f77b4\"},\"line_color\":{\"value\":\"#1f77b4\"},\"size\":{\"value\":10},\"x\":{\"field\":\"frequency\"},\"y\":{\"field\":\"damage\"}},\"id\":\"1036\",\"type\":\"Circle\"},{\"attributes\":{\"fill_alpha\":{\"value\":0.1},\"fill_color\":{\"value\":\"#1f77b4\"},\"hatch_alpha\":{\"value\":0.1},\"line_alpha\":{\"value\":0.1},\"line_color\":{\"value\":\"#1f77b4\"},\"size\":{\"value\":10},\"x\":{\"field\":\"frequency\"},\"y\":{\"field\":\"damage\"}},\"id\":\"1037\",\"type\":\"Circle\"},{\"attributes\":{},\"id\":\"1050\",\"type\":\"UnionRenderers\"},{\"attributes\":{},\"id\":\"1023\",\"type\":\"WheelZoomTool\"}],\"root_ids\":[\"1003\"]},\"title\":\"Bokeh Application\",\"version\":\"2.4.3\"}};\n",
       "  const render_items = [{\"docid\":\"a3738add-82b4-4937-b15d-fa44cf477c82\",\"root_ids\":[\"1003\"],\"roots\":{\"1003\":\"118235fd-282a-497e-b030-3c58fc7f660a\"}}];\n",
       "  root.Bokeh.embed.embed_items_notebook(docs_json, render_items);\n",
       "  }\n",
       "  if (root.Bokeh !== undefined) {\n",
       "    embed_document(root);\n",
       "  } else {\n",
       "    let attempts = 0;\n",
       "    const timer = setInterval(function(root) {\n",
       "      if (root.Bokeh !== undefined) {\n",
       "        clearInterval(timer);\n",
       "        embed_document(root);\n",
       "      } else {\n",
       "        attempts++;\n",
       "        if (attempts > 100) {\n",
       "          clearInterval(timer);\n",
       "          console.log(\"Bokeh: ERROR: Unable to run BokehJS code because BokehJS library is missing\");\n",
       "        }\n",
       "      }\n",
       "    }, 10, root)\n",
       "  }\n",
       "})(window);"
      ],
      "application/vnd.bokehjs_exec.v0+json": ""
     },
     "metadata": {
      "application/vnd.bokehjs_exec.v0+json": {
       "id": "1003"
      }
     },
     "output_type": "display_data"
    }
   ],
   "source": [
    "show(p)"
   ]
  },
  {
   "cell_type": "markdown",
   "id": "22cc86d3-d37f-4802-85d0-23a7047a6eb7",
   "metadata": {},
   "source": [
    "Then we plot the \"normal way\" using matplotlib"
   ]
  },
  {
   "cell_type": "code",
   "execution_count": 49,
   "id": "faac8224",
   "metadata": {},
   "outputs": [
    {
     "data": {
      "text/plain": [
       "<matplotlib.collections.PathCollection at 0x23d8021f520>"
      ]
     },
     "execution_count": 49,
     "metadata": {},
     "output_type": "execute_result"
    },
    {
     "data": {
      "image/png": "[encoded data removed]",
      "text/plain": [
       "<Figure size 640x480 with 1 Axes>"
      ]
     },
     "metadata": {},
     "output_type": "display_data"
    }
   ],
   "source": [
    "# Plot the  data\n",
    "fig, ax = plt.subplots()\n",
    "#plt.xlim([0,1])\n",
    "ax.scatter(x, y, s=20, color='#00b3b3', label='Data')"
   ]
  },
  {
   "cell_type": "code",
   "execution_count": 50,
   "id": "2713fe19-cd7f-4830-897b-5caf12465368",
   "metadata": {},
   "outputs": [
    {
     "data": {
      "text/plain": [
       "<matplotlib.collections.PathCollection at 0x23d80abc430>"
      ]
     },
     "execution_count": 50,
     "metadata": {},
     "output_type": "execute_result"
    },
    {
     "data": {
      "image/png": "[encoded data removed]",
      "text/plain": [
       "<Figure size 640x480 with 1 Axes>"
      ]
     },
     "metadata": {},
     "output_type": "display_data"
    }
   ],
   "source": [
    "# Plot the  data\n",
    "fig = plt.figure()\n",
    "ax = fig.add_axes([0, 0, 1, 1])\n",
    "#plt.xlim([0,1])\n",
    "ax.scatter(x, y, s=20, color='#00b3b3', label='Data')"
   ]
  },
  {
   "cell_type": "markdown",
   "id": "302ff2b5",
   "metadata": {},
   "source": [
    "An often more-useful method of visualizing exponential data is with a logarithmic plot since it linearizes the data. To set the scale of the x and y-axis from linear to logarithmic, we add the following line:"
   ]
  },
  {
   "cell_type": "code",
   "execution_count": 51,
   "id": "56565ef8",
   "metadata": {},
   "outputs": [
    {
     "data": {
      "text/plain": [
       "<matplotlib.collections.PathCollection at 0x23d80b2bd90>"
      ]
     },
     "execution_count": 51,
     "metadata": {},
     "output_type": "execute_result"
    },
    {
     "data": {
      "image/png": "[encoded data removed]",
      "text/plain": [
       "<Figure size 640x480 with 1 Axes>"
      ]
     },
     "metadata": {},
     "output_type": "display_data"
    }
   ],
   "source": [
    "fig = plt.figure()\n",
    "ax = fig.add_axes([0, 0, 1, 1])\n",
    "# Set the x and y-axis scaling to logarithmic\n",
    "ax.set_xscale('log')\n",
    "ax.set_yscale('log')\n",
    "# Edit the major and minor tick locations of x and y axes\n",
    "ax.xaxis.set_major_locator(mpl.ticker.LogLocator(base=10.0))\n",
    "ax.yaxis.set_major_locator(mpl.ticker.LogLocator(base=10.0))\n",
    "# Set the axis limits TODO\n",
    "#ax.set_xlim(10, 1000)\n",
    "#ax.set_ylim(1, 100)\n",
    "ax.scatter(x, y, s=20, color='#00b3b3', label='Data')"
   ]
  },
  {
   "cell_type": "markdown",
   "id": "c72e0629",
   "metadata": {},
   "source": [
    "We can now fit our data to the power law function to extract the a and b parameters, and superimpose the fit on the data. Note that although we have presented a log plot above, we have not actually changed the x and y-data - we have only changed the scale of the x and y-axis. So, we are still fitting the non-linear data, which is typically better as linearizing the data before fitting can change the residuals and variances of the fit.\n",
    "\n",
    "We can use two different approach to fit to the curve. `curve_fit` from scipy and `model` from lmfit. The latter one allows us to easily specify the confidence intervals as well"
   ]
  },
  {
   "cell_type": "markdown",
   "id": "322b2f25-4af0-422e-bf99-450ecaa51535",
   "metadata": {},
   "source": [
    "__METHOD 1:__  \n",
    "__curve_fit__\n",
    "\n",
    "INPUTS:\n",
    "\n",
    "* `f` — function used for fitting (in this case exponential)\n",
    "* `xdata` — array of x-data for fitting\n",
    "* `ydata` — array of y-data for fitting\n",
    "* `p0` — array of initial guesses for the fitting parameters (both a and b as 0)\n",
    "* `bounds` — bounds for the parameters (-∞ to ∞)\n",
    "\n",
    "OUTPUTS:\n",
    "\n",
    "* `pars` — array of parameters from fit (in this case [a, b])\n",
    "* `cov` — the estimated covariance of pars which can be used to determine the standard deviations of the fitting parameters (square roots of the diagonals)"
   ]
  },
  {
   "cell_type": "code",
   "execution_count": 52,
   "id": "2a770d40-2664-40c7-8bb6-c71f4ac0b10c",
   "metadata": {},
   "outputs": [],
   "source": [
    "# TODO MAKE IT WEIGHTED\n",
    "pars, pcov = curve_fit(f=power_law, xdata=x, ydata=y, p0=[0, 0], bounds=(-np.inf, np.inf))\n",
    "\n",
    "# Get the standard deviations of the parameters (square roots of the # diagonal of the covariance)\n",
    "stdevs = np.sqrt(np.diag(pcov))\n",
    "# Calculate the residuals\n",
    "res = y - power_law(x, *pars)"
   ]
  },
  {
   "cell_type": "code",
   "execution_count": 53,
   "id": "9dcd85b0-58ce-4046-a854-f5d05fd9f098",
   "metadata": {},
   "outputs": [],
   "source": [
    "if(False):\n",
    "    from scipy import stats\n",
    "    # Define confidence interval.\n",
    "    ci = 0.95\n",
    "    # Convert to percentile point of the normal distribution.\n",
    "    # See: https://en.wikipedia.org/wiki/Standard_score\n",
    "    pp = (1. + ci) / 2.\n",
    "    # Convert to number of standard deviations.\n",
    "    nstd = stats.norm.ppf(pp)\n",
    "    print(nstd)\n",
    "    popt_up = pars + nstd * stdevs\n",
    "    popt_dw = pars - nstd * stdevs"
   ]
  },
  {
   "cell_type": "markdown",
   "id": "fed27e55",
   "metadata": {},
   "source": [
    "We can extract the parameters and their standard deviations from the `curve_fit` outputs, and calculate the residuals by subtracting the calculated value (from our fit) from the actual observed values (our dummy data)"
   ]
  },
  {
   "cell_type": "code",
   "execution_count": 54,
   "id": "8807cb8b",
   "metadata": {},
   "outputs": [
    {
     "name": "stdout",
     "output_type": "stream",
     "text": [
      "Fit parameters and standard deviations:\n",
      "a= 0.0364 +- 0.014\n",
      "b= -0.56963 +- 0.109\n",
      "Paper parameters:\n",
      "a= 0.04756\n",
      "b= -0.48652\n"
     ]
    }
   ],
   "source": [
    "print(\"Fit parameters and standard deviations:\")\n",
    "print(\"a=\", round(pars[0], 5), \"+-\", round(stdevs[0], 3))\n",
    "print(\"b=\", round(pars[1], 5), \"+-\", round(stdevs[1], 3))\n",
    "print(\"Paper parameters:\")\n",
    "print(\"a= 0.04756\")\n",
    "print(\"b= -0.48652\")\n",
    "parameter_a = pars[0]\n",
    "parameter_b = pars[1]\n",
    "parameter_a_paper = 0.04756\n",
    "parameter_b_paper = -0.48652"
   ]
  },
  {
   "cell_type": "markdown",
   "id": "baeee3b1-6056-45e1-81ba-de9f70390b59",
   "metadata": {},
   "source": [
    "__METHOD 2:__  \n",
    "__Model.fit__\n",
    "\n",
    "INPUTS:\n",
    "\n",
    "* `data` (array_like) – Array of data to be fit.\n",
    "* `params` (Parameters, optional) – Parameters to use in fit (default is None).\n",
    "* `weights` (array_like, optional) – Weights to use for the calculation of the fit residual [i.e., weights*(data-fit)]. Default is None; must have the same size as data.\n",
    "* `method` (str, optional) – Name of fitting method to use (default is ‘leastsq’).\n",
    "* `iter_cb` (callable, optional) – Callback function to call at each iteration (default is None).\n",
    "* `scale_covar` (bool, optional) – Whether to automatically scale the covariance matrix when calculating uncertainties (default is True).\n",
    "\n",
    "(...)"
   ]
  },
  {
   "cell_type": "code",
   "execution_count": 55,
   "id": "f902463d-314b-430a-ac38-3a1623548c92",
   "metadata": {},
   "outputs": [],
   "source": [
    "import lmfit\n",
    "from lmfit import Model"
   ]
  },
  {
   "cell_type": "code",
   "execution_count": 56,
   "id": "53ece6ba-d445-4dc6-9d5e-db3cac7a5c2e",
   "metadata": {},
   "outputs": [],
   "source": [
    "# define the fitting model\n",
    "model = Model(power_law)\n",
    "params = model.make_params(a=1,b=1) "
   ]
  },
  {
   "cell_type": "code",
   "execution_count": 57,
   "id": "09bb187a-0788-4823-bf8f-010ce7928ff6",
   "metadata": {},
   "outputs": [],
   "source": [
    "# fit to curve\n",
    "result = model.fit(y, params, x=x)"
   ]
  },
  {
   "cell_type": "code",
   "execution_count": 58,
   "id": "a672a833-f088-4435-ac8f-f5bff74f3ae7",
   "metadata": {},
   "outputs": [
    {
     "name": "stdout",
     "output_type": "stream",
     "text": [
      "[[Model]]\n",
      "    Model(power_law)\n",
      "[[Fit Statistics]]\n",
      "    # fitting method   = leastsq\n",
      "    # function evals   = 36\n",
      "    # data points      = 41\n",
      "    # variables        = 2\n",
      "    chi-square         = 0.54335089\n",
      "    reduced chi-square = 0.01393207\n",
      "    Akaike info crit   = -173.266453\n",
      "    Bayesian info crit = -169.839309\n",
      "    R-squared          = 0.39329579\n",
      "[[Variables]]\n",
      "    a:  0.03640002 +/- 0.01382905 (37.99%) (init = 1)\n",
      "    b: -0.56962857 +/- 0.10854546 (19.06%) (init = 1)\n",
      "[[Correlations]] (unreported correlations are < 0.100)\n",
      "    C(a, b) = 0.950\n"
     ]
    }
   ],
   "source": [
    "# show summary of results\n",
    "print(result.fit_report())"
   ]
  },
  {
   "cell_type": "markdown",
   "id": "d278fc0d-d2d4-46d1-b09b-4a237443aca5",
   "metadata": {},
   "source": [
    "Results are the same as before. Let's now calculate the __confidence intervals__ as well"
   ]
  },
  {
   "cell_type": "code",
   "execution_count": 59,
   "id": "2e29dc45-7719-4314-adee-e64de57b79f6",
   "metadata": {},
   "outputs": [
    {
     "name": "stdout",
     "output_type": "stream",
     "text": [
      "      99.73%    95.45%    68.27%    _BEST_    68.27%    95.45%    99.73%\n",
      " a:  -0.03178  -0.02382  -0.01315   0.03640  +0.01598  +0.03573  +0.06110\n",
      " b:  -0.51966  -0.27953  -0.12299  -0.56963  +0.10962  +0.21832  +0.33858\n"
     ]
    }
   ],
   "source": [
    "ci = result.conf_interval()\n",
    "print(lmfit.printfuncs.ci_report(ci,with_offset=True))"
   ]
  },
  {
   "cell_type": "markdown",
   "id": "5a0261e8",
   "metadata": {},
   "source": [
    "Let's now plot the fitted curve.\n",
    "`*pars` — allows us to unroll the pars array, i.e. [a, b] gets inputted as a, b"
   ]
  },
  {
   "cell_type": "code",
   "execution_count": 60,
   "id": "a4757ee9",
   "metadata": {},
   "outputs": [
    {
     "data": {
      "text/plain": [
       "[<matplotlib.lines.Line2D at 0x23d82b828c0>]"
      ]
     },
     "execution_count": 60,
     "metadata": {},
     "output_type": "execute_result"
    },
    {
     "data": {
      "image/png": "[encoded data removed]",
      "text/plain": [
       "<Figure size 640x480 with 1 Axes>"
      ]
     },
     "metadata": {},
     "output_type": "display_data"
    }
   ],
   "source": [
    "# Plot the fit data as an overlay on the scatter data\n",
    "fig = plt.figure()\n",
    "ax = fig.add_axes([0, 0, 1, 1])\n",
    "# Set the x and y-axis scaling to logarithmic\n",
    "ax.set_xscale('log')\n",
    "ax.set_yscale('log')\n",
    "# Edit the major and minor tick locations of x and y axes\n",
    "ax.xaxis.set_major_locator(mpl.ticker.LogLocator(base=10.0))\n",
    "ax.yaxis.set_major_locator(mpl.ticker.LogLocator(base=10.0))\n",
    "# Set the axis limits\n",
    "#ax.set_xlim(10, 1000)\n",
    "#ax.set_ylim(1, 100)\n",
    "ax.scatter(x, y, s=20, color='#00b3b3', label='Data')\n",
    "ax.plot(x, power_law(x, *pars), linestyle='--', linewidth=2, color='red')"
   ]
  },
  {
   "cell_type": "markdown",
   "id": "b0f42655",
   "metadata": {},
   "source": [
    "Finally let's visualize the curve not log-scaled"
   ]
  },
  {
   "cell_type": "code",
   "execution_count": 61,
   "id": "9fb1d6ff-5dd0-42e6-8478-66b2f5bfa9e5",
   "metadata": {},
   "outputs": [],
   "source": [
    "# for now we just use the std deviation values to calculate an interval\n",
    "conf =[]\n",
    "conf.append([pars[0]-stdevs[0],pars[1]+stdevs[1]])\n",
    "conf.append([pars[0]+stdevs[0],pars[1]-stdevs[1]])"
   ]
  },
  {
   "cell_type": "code",
   "execution_count": 62,
   "id": "c8654666",
   "metadata": {},
   "outputs": [
    {
     "data": {
      "text/plain": [
       "(0.0, 0.5)"
      ]
     },
     "execution_count": 62,
     "metadata": {},
     "output_type": "execute_result"
    },
    {
     "data": {
      "image/png": "[encoded data removed]",
      "text/plain": [
       "<Figure size 1600x1000 with 1 Axes>"
      ]
     },
     "metadata": {},
     "output_type": "display_data"
    }
   ],
   "source": [
    "fig = plt.figure(figsize=(16,10))\n",
    "\n",
    "ax = fig.add_axes([0.0, 0, 1, 1])\n",
    "x_ranged = np.linspace(0.002,x.max(), 100) \n",
    "\n",
    "# plotting obs\n",
    "ax.scatter(x,y)\n",
    "\n",
    "# plotting fitted curve\n",
    "ax.plot(x_ranged, power_law(x_ranged, *pars), linewidth=3, color='greY')\n",
    "\n",
    "# plotting the confidence intervals (std devs)\n",
    "ax.fill_between(x_ranged, power_law(x_ranged, *conf[0]), power_law(x_ranged, *conf[1]),\n",
    "                 color = 'orange', alpha = 0.08)\n",
    "plt.grid(True)\n",
    "plt.ylim(0,0.8)\n",
    "plt.xlim(0,0.5)"
   ]
  },
  {
   "cell_type": "markdown",
   "id": "65945f86-30f0-4283-a703-3a34be8126d4",
   "metadata": {
    "tags": []
   },
   "source": [
    "## Estimates of economic damages"
   ]
  },
  {
   "cell_type": "markdown",
   "id": "298f7d4c-33a1-4930-af88-09e23387d270",
   "metadata": {},
   "source": [
    "Estimates of direct economic damages are expressed in €2015 values, and they were obtained as follows. For all climate realizations of the ensemble, we combine for each 30-year time window (baseline and periods centred on the GWLs) the hazard, exposure and damage function in the following way. For each year of a 30-year time window, the median frequency of the simulated annual  minimum flow is obtained over all river pixels with upstream area >1,000 km2 in \n",
    "a country. This value is then plugged into the damage function (central estimate in Supplementary Fig. 4, x-axis) to determine the loss as a fraction of the exposed sensitive value. So in country A, an event in year i with a probability to happen once every 5 years (frequency = 0.2, or return period of 5 years), would result in a 10% loss of the exposed sensitive value in that country. Multiplication with the present (baseline, Supplementary Table 4) or future (end of century, Supplementary  Table 5) exposed sensitive value for country A then provides a quantitative estimate  of the drought losses for country A in year i. For each climate realization, the  country expected annual damage at the GWLs was then obtained by taking the  average loss over the 30 years of estimated annual losses in the respective periods.  We note that when considering extremes, it is important to take the average impact  over all simulated events and not the median, as there is large skew in the impact  distribution (inherent to extreme events) and the low-probability high-impact  events have an important weight in the expected annual losses. The uncertainty in  the fitted damage function (dotted lines in Supplementary Fig. 4) was translated  into impact estimates through loss estimations for the 5% and 95% uncertainty  bounds of the fitted vulnerability function for each climate realization. The total uncertainty in our damage estimates thus reflects the variability in future climate at the warming levels as defined by the climate ensemble and the uncertainty in the relation between damages and drought hazard."
   ]
  },
  {
   "cell_type": "markdown",
   "id": "ad350ebe-84c8-4081-85f4-7bfe893a5f05",
   "metadata": {},
   "source": [
    "Here is the path to the parquet file containing the median frequency data we are interested in"
   ]
  },
  {
   "cell_type": "code",
   "execution_count": 63,
   "id": "9f2752fb-cd7d-4fe9-9d52-814b521ee674",
   "metadata": {},
   "outputs": [],
   "source": [
    "prj_path = os.path.join(my_params.generic[\"db_path\"],\"zonal_stats_NUTS0_tot.parquet\")"
   ]
  },
  {
   "cell_type": "code",
   "execution_count": 64,
   "id": "957aa7ea-3d54-4a66-8ad8-cd4742c6ff86",
   "metadata": {},
   "outputs": [],
   "source": [
    "prj_df = pd.read_parquet(prj_path, engine='fastparquet')"
   ]
  },
  {
   "cell_type": "code",
   "execution_count": 65,
   "id": "4cc5cdbe-32c5-4cf0-bf7d-c67355880920",
   "metadata": {},
   "outputs": [
    {
     "data": {
      "text/plain": [
       "Index(['model', 'rcp', 'year', 'NUTS_ID', 'med'], dtype='object')"
      ]
     },
     "execution_count": 65,
     "metadata": {},
     "output_type": "execute_result"
    }
   ],
   "source": [
    "prj_df.columns"
   ]
  },
  {
   "cell_type": "code",
   "execution_count": 66,
   "id": "5bc47b1b-b8d0-4042-b736-217a3828765f",
   "metadata": {},
   "outputs": [],
   "source": [
    "#prj_df.query(\"model=='SMHI-RCA4_BC_MOHC-HadGEM2-ES' and rcp==85 and year==1981\").sort_values(\"NUTS_ID\")"
   ]
  },
  {
   "cell_type": "code",
   "execution_count": 67,
   "id": "5a14b1ed-6ac9-4cd4-afd5-48a46b8f6cca",
   "metadata": {},
   "outputs": [],
   "source": [
    "# filter to baseline\n",
    "prj_df = prj_df[prj_df['year']<2011]"
   ]
  },
  {
   "cell_type": "markdown",
   "id": "1b11d1f0-11fc-4f36-b5e9-40556d1bb402",
   "metadata": {},
   "source": [
    "Values of 0.002 are already really low (as it means a return period of 500 years). We decided to not included values that are lower than that."
   ]
  },
  {
   "cell_type": "code",
   "execution_count": 68,
   "id": "74acc2a5-5d5d-483d-929a-1edace6752aa",
   "metadata": {},
   "outputs": [],
   "source": [
    "# cap to 0.002 as lowest\n",
    "prj_df.loc[(prj_df[\"med\"] < 0.002) & (prj_df[\"med\"] > 0.0), \"med\"] = 0.002"
   ]
  },
  {
   "cell_type": "markdown",
   "id": "3f66297a-aed1-4964-a01c-4458492e436a",
   "metadata": {},
   "source": [
    "We are ready to calculate the drought losses for country _a_ in year _i_ for each climate model and rcp."
   ]
  },
  {
   "cell_type": "code",
   "execution_count": 69,
   "id": "47aae0c7-28d7-4ba9-b0fa-e062a96f1c43",
   "metadata": {},
   "outputs": [],
   "source": [
    "def calculate_loss(element):\n",
    "    if(element.NUTS_ID in dict_exp):\n",
    "        if(element.med > 0 and element.med <my_params.drought_analysis[\"prj_median_threshold\"]):\n",
    "            return power_law(element.med, parameter_a, parameter_b) * dict_exp[element.NUTS_ID]\n",
    "        else:\n",
    "            return 0.0\n",
    "    else:\n",
    "        return np.nan"
   ]
  },
  {
   "cell_type": "code",
   "execution_count": 70,
   "id": "444bf631-4bad-4690-a6ea-db7b63989bfb",
   "metadata": {},
   "outputs": [],
   "source": [
    "prj_df[\"loss\"] = prj_df.apply(calculate_loss, axis=1)"
   ]
  },
  {
   "cell_type": "markdown",
   "id": "ec8c8687-bb14-46d5-82a5-2a8bad97dbba",
   "metadata": {},
   "source": [
    "Then we calculate the mean over the 30 years window for each model"
   ]
  },
  {
   "cell_type": "code",
   "execution_count": 71,
   "id": "1ca0419d-2214-4cd1-b8c5-e80700b0c976",
   "metadata": {},
   "outputs": [],
   "source": [
    "prj_grouped_final = prj_df.groupby([\"model\",\"rcp\",\"NUTS_ID\"]).mean(numeric_only=True).reset_index().drop(\"year\",axis=1)"
   ]
  },
  {
   "cell_type": "code",
   "execution_count": 72,
   "id": "2da4109c-4382-4c2c-a61c-4790685f2db6",
   "metadata": {},
   "outputs": [
    {
     "data": {
      "text/html": [
       "<div>\n",
       "<style scoped>\n",
       "    .dataframe tbody tr th:only-of-type {\n",
       "        vertical-align: middle;\n",
       "    }\n",
       "\n",
       "    .dataframe tbody tr th {\n",
       "        vertical-align: top;\n",
       "    }\n",
       "\n",
       "    .dataframe thead th {\n",
       "        text-align: right;\n",
       "    }\n",
       "</style>\n",
       "<table border=\"1\" class=\"dataframe\">\n",
       "  <thead>\n",
       "    <tr style=\"text-align: right;\">\n",
       "      <th></th>\n",
       "      <th>model</th>\n",
       "      <th>rcp</th>\n",
       "      <th>NUTS_ID</th>\n",
       "      <th>med</th>\n",
       "      <th>loss</th>\n",
       "    </tr>\n",
       "  </thead>\n",
       "  <tbody>\n",
       "    <tr>\n",
       "      <th>0</th>\n",
       "      <td>CLMcom-CCLM4-8-17_BC_CNRM-CERFACS-CNRM-CM5</td>\n",
       "      <td>45</td>\n",
       "      <td>AL</td>\n",
       "      <td>0.506061</td>\n",
       "      <td>81.141439</td>\n",
       "    </tr>\n",
       "    <tr>\n",
       "      <th>1</th>\n",
       "      <td>CLMcom-CCLM4-8-17_BC_CNRM-CERFACS-CNRM-CM5</td>\n",
       "      <td>45</td>\n",
       "      <td>AT</td>\n",
       "      <td>0.476331</td>\n",
       "      <td>439.544722</td>\n",
       "    </tr>\n",
       "    <tr>\n",
       "      <th>2</th>\n",
       "      <td>CLMcom-CCLM4-8-17_BC_CNRM-CERFACS-CNRM-CM5</td>\n",
       "      <td>45</td>\n",
       "      <td>BE</td>\n",
       "      <td>0.475236</td>\n",
       "      <td>391.444756</td>\n",
       "    </tr>\n",
       "    <tr>\n",
       "      <th>3</th>\n",
       "      <td>CLMcom-CCLM4-8-17_BC_CNRM-CERFACS-CNRM-CM5</td>\n",
       "      <td>45</td>\n",
       "      <td>BG</td>\n",
       "      <td>0.485195</td>\n",
       "      <td>114.054717</td>\n",
       "    </tr>\n",
       "    <tr>\n",
       "      <th>4</th>\n",
       "      <td>CLMcom-CCLM4-8-17_BC_CNRM-CERFACS-CNRM-CM5</td>\n",
       "      <td>45</td>\n",
       "      <td>CH</td>\n",
       "      <td>0.488832</td>\n",
       "      <td>401.200207</td>\n",
       "    </tr>\n",
       "    <tr>\n",
       "      <th>...</th>\n",
       "      <td>...</td>\n",
       "      <td>...</td>\n",
       "      <td>...</td>\n",
       "      <td>...</td>\n",
       "      <td>...</td>\n",
       "    </tr>\n",
       "    <tr>\n",
       "      <th>809</th>\n",
       "      <td>SMHI-RCA4_BC_MPI-M-MPI-ESM-LR</td>\n",
       "      <td>85</td>\n",
       "      <td>SE</td>\n",
       "      <td>0.580758</td>\n",
       "      <td>459.387920</td>\n",
       "    </tr>\n",
       "    <tr>\n",
       "      <th>810</th>\n",
       "      <td>SMHI-RCA4_BC_MPI-M-MPI-ESM-LR</td>\n",
       "      <td>85</td>\n",
       "      <td>SI</td>\n",
       "      <td>0.518002</td>\n",
       "      <td>65.515332</td>\n",
       "    </tr>\n",
       "    <tr>\n",
       "      <th>811</th>\n",
       "      <td>SMHI-RCA4_BC_MPI-M-MPI-ESM-LR</td>\n",
       "      <td>85</td>\n",
       "      <td>SK</td>\n",
       "      <td>0.569237</td>\n",
       "      <td>82.116314</td>\n",
       "    </tr>\n",
       "    <tr>\n",
       "      <th>812</th>\n",
       "      <td>SMHI-RCA4_BC_MPI-M-MPI-ESM-LR</td>\n",
       "      <td>85</td>\n",
       "      <td>TR</td>\n",
       "      <td>0.372375</td>\n",
       "      <td>NaN</td>\n",
       "    </tr>\n",
       "    <tr>\n",
       "      <th>813</th>\n",
       "      <td>SMHI-RCA4_BC_MPI-M-MPI-ESM-LR</td>\n",
       "      <td>85</td>\n",
       "      <td>UK</td>\n",
       "      <td>0.291340</td>\n",
       "      <td>2247.383331</td>\n",
       "    </tr>\n",
       "  </tbody>\n",
       "</table>\n",
       "<p>814 rows × 5 columns</p>\n",
       "</div>"
      ],
      "text/plain": [
       "                                          model  rcp NUTS_ID       med  \\\n",
       "0    CLMcom-CCLM4-8-17_BC_CNRM-CERFACS-CNRM-CM5   45      AL  0.506061   \n",
       "1    CLMcom-CCLM4-8-17_BC_CNRM-CERFACS-CNRM-CM5   45      AT  0.476331   \n",
       "2    CLMcom-CCLM4-8-17_BC_CNRM-CERFACS-CNRM-CM5   45      BE  0.475236   \n",
       "3    CLMcom-CCLM4-8-17_BC_CNRM-CERFACS-CNRM-CM5   45      BG  0.485195   \n",
       "4    CLMcom-CCLM4-8-17_BC_CNRM-CERFACS-CNRM-CM5   45      CH  0.488832   \n",
       "..                                          ...  ...     ...       ...   \n",
       "809               SMHI-RCA4_BC_MPI-M-MPI-ESM-LR   85      SE  0.580758   \n",
       "810               SMHI-RCA4_BC_MPI-M-MPI-ESM-LR   85      SI  0.518002   \n",
       "811               SMHI-RCA4_BC_MPI-M-MPI-ESM-LR   85      SK  0.569237   \n",
       "812               SMHI-RCA4_BC_MPI-M-MPI-ESM-LR   85      TR  0.372375   \n",
       "813               SMHI-RCA4_BC_MPI-M-MPI-ESM-LR   85      UK  0.291340   \n",
       "\n",
       "            loss  \n",
       "0      81.141439  \n",
       "1     439.544722  \n",
       "2     391.444756  \n",
       "3     114.054717  \n",
       "4     401.200207  \n",
       "..           ...  \n",
       "809   459.387920  \n",
       "810    65.515332  \n",
       "811    82.116314  \n",
       "812          NaN  \n",
       "813  2247.383331  \n",
       "\n",
       "[814 rows x 5 columns]"
      ]
     },
     "execution_count": 72,
     "metadata": {},
     "output_type": "execute_result"
    }
   ],
   "source": [
    "prj_grouped_final"
   ]
  },
  {
   "cell_type": "markdown",
   "id": "f2b84854-f2d8-4828-98d3-74161c12d3c4",
   "metadata": {},
   "source": [
    "Finally, we get the mean of all models. We also drop non EU countries"
   ]
  },
  {
   "cell_type": "code",
   "execution_count": 73,
   "id": "523bee52-e388-43d8-a8b8-f9d456a4ae98",
   "metadata": {},
   "outputs": [],
   "source": [
    "results=prj_grouped_final.groupby(\"NUTS_ID\").mean(numeric_only=True).reset_index().drop([\"rcp\",\"med\"],axis=1).dropna()"
   ]
  },
  {
   "cell_type": "code",
   "execution_count": 74,
   "id": "023c706f-9e95-4e16-aecd-779955b95e76",
   "metadata": {},
   "outputs": [],
   "source": [
    "# adding the country name\n",
    "results['country_name'] = results.apply(country_name, args=(\"NUTS_ID\",), axis = 1)"
   ]
  },
  {
   "cell_type": "markdown",
   "id": "5755acc1-c8b0-44ad-a106-e9a4e94052f1",
   "metadata": {},
   "source": [
    "Here the final results!"
   ]
  },
  {
   "cell_type": "code",
   "execution_count": 75,
   "id": "27104177-3a92-4162-b379-3d71896850bf",
   "metadata": {},
   "outputs": [],
   "source": [
    "#results"
   ]
  },
  {
   "cell_type": "code",
   "execution_count": 76,
   "id": "426c7f8f-6842-45e1-92f4-bc6b28822304",
   "metadata": {},
   "outputs": [],
   "source": [
    "# save to file\n",
    "results.to_parquet(os.path.join(my_params.generic['result_path'],'nuts_0.parquet'), engine='fastparquet')"
   ]
  },
  {
   "cell_type": "code",
   "execution_count": 77,
   "id": "c1e2e054-e2b4-421a-8506-c74984623f0f",
   "metadata": {},
   "outputs": [],
   "source": [
    "def country_exp(dfs):\n",
    "    return dict_exp[dfs['country_code']]"
   ]
  },
  {
   "cell_type": "markdown",
   "id": "55020f06-f38d-4a34-acc7-802d3050d747",
   "metadata": {},
   "source": [
    "### Compare results with paper"
   ]
  },
  {
   "cell_type": "code",
   "execution_count": 78,
   "id": "060cd7eb-35a6-4453-b868-9d26fca1d220",
   "metadata": {},
   "outputs": [],
   "source": [
    "# paper\n",
    "d = {'country': ['Austria','Belgium','Bulgaria','Croatia','Cyprus','Czech Republic','Denmark','Estonia','Finland','France','Germany','Greece','Hungary','Ireland','Italy','Latvia','Lithuania','Luxembourg','Malta','Netherlands','Poland','Portugal','Romania','Slovakia','Slovenia','Spain','Sweden','United Kingdom'], \n",
    "     'loss': [244,210,89,72,38,169,121,14,66,1244,996,326,162,122,1395,18,29,20,13,265,338,252,388,84,45,1487,157,686]}\n",
    "df = pd.DataFrame(data=d)\n",
    "inv_map = {v: k for k, v in dict_alpha.items()}"
   ]
  },
  {
   "cell_type": "code",
   "execution_count": 79,
   "id": "a7747196-59d9-4133-8a54-ccd9f4d87d8c",
   "metadata": {},
   "outputs": [],
   "source": [
    "def country_code(dfs):\n",
    "    return inv_map[dfs['country']]"
   ]
  },
  {
   "cell_type": "code",
   "execution_count": 80,
   "id": "de3271e4-dc7c-4a70-97fe-eb5e28bf4c7a",
   "metadata": {},
   "outputs": [],
   "source": [
    "df['country_code'] = df.apply(country_code, axis = 1)"
   ]
  },
  {
   "cell_type": "code",
   "execution_count": 81,
   "id": "3ba0590b-33d6-400f-8c5d-528557aecbab",
   "metadata": {},
   "outputs": [],
   "source": [
    "# use the apply function of pandas to make the new column\n",
    "#df['exp'] = df.apply(country_exp, axis = 1)\n",
    "#df['med_ref'] = pow((df['loss'] / df['exp'])/parameter_a_paper,1/parameter_b_paper)"
   ]
  },
  {
   "cell_type": "code",
   "execution_count": 82,
   "id": "12bfe58a-3f1e-478d-ae3c-22b9311793f5",
   "metadata": {},
   "outputs": [],
   "source": [
    "results = results.rename(columns={\"loss\":\"cm_loss\",\"NUTS_ID\":\"country_code\"}).drop([\"country_name\"],axis=1)"
   ]
  },
  {
   "cell_type": "code",
   "execution_count": 83,
   "id": "849f6a71-511f-44b9-8181-ae4b837587a4",
   "metadata": {},
   "outputs": [],
   "source": [
    "f_results = pd.merge(df,results,how='inner',on='country_code')"
   ]
  },
  {
   "cell_type": "code",
   "execution_count": 84,
   "id": "a8170da7-1a0d-43a4-b89d-63d2921e1155",
   "metadata": {},
   "outputs": [],
   "source": [
    "f_results[\"diff\"] = round(f_results.cm_loss - f_results.loss,0)"
   ]
  },
  {
   "cell_type": "code",
   "execution_count": 85,
   "id": "80e5bf65-f583-4b9e-8584-f3ccfdc51e75",
   "metadata": {},
   "outputs": [
    {
     "data": {
      "text/html": [
       "<style type=\"text/css\">\n",
       "#T_613da_row0_col3 {\n",
       "  background-color: #ffea99;\n",
       "  color: #000000;\n",
       "}\n",
       "#T_613da_row1_col3 {\n",
       "  background-color: #ffeea3;\n",
       "  color: #000000;\n",
       "}\n",
       "#T_613da_row2_col3, #T_613da_row3_col3, #T_613da_row21_col3 {\n",
       "  background-color: #fffcc5;\n",
       "  color: #000000;\n",
       "}\n",
       "#T_613da_row4_col3, #T_613da_row15_col3, #T_613da_row16_col3, #T_613da_row17_col3 {\n",
       "  background-color: #fffdc8;\n",
       "  color: #000000;\n",
       "}\n",
       "#T_613da_row5_col3 {\n",
       "  background-color: #fff3af;\n",
       "  color: #000000;\n",
       "}\n",
       "#T_613da_row6_col3 {\n",
       "  background-color: #fff4b0;\n",
       "  color: #000000;\n",
       "}\n",
       "#T_613da_row7_col3 {\n",
       "  background-color: #fffec9;\n",
       "  color: #000000;\n",
       "}\n",
       "#T_613da_row8_col3 {\n",
       "  background-color: #fff4b2;\n",
       "  color: #000000;\n",
       "}\n",
       "#T_613da_row9_col3 {\n",
       "  background-color: #c40524;\n",
       "  color: #f1f1f1;\n",
       "}\n",
       "#T_613da_row10_col3 {\n",
       "  background-color: #800026;\n",
       "  color: #f1f1f1;\n",
       "}\n",
       "#T_613da_row11_col3, #T_613da_row23_col3 {\n",
       "  background-color: #fff9bd;\n",
       "  color: #000000;\n",
       "}\n",
       "#T_613da_row12_col3 {\n",
       "  background-color: #fffac1;\n",
       "  color: #000000;\n",
       "}\n",
       "#T_613da_row13_col3 {\n",
       "  background-color: #fff7b9;\n",
       "  color: #000000;\n",
       "}\n",
       "#T_613da_row14_col3 {\n",
       "  background-color: #fd8239;\n",
       "  color: #f1f1f1;\n",
       "}\n",
       "#T_613da_row18_col3 {\n",
       "  background-color: #ffffcc;\n",
       "  color: #000000;\n",
       "}\n",
       "#T_613da_row19_col3 {\n",
       "  background-color: #fecf6b;\n",
       "  color: #000000;\n",
       "}\n",
       "#T_613da_row20_col3 {\n",
       "  background-color: #fff0a7;\n",
       "  color: #000000;\n",
       "}\n",
       "#T_613da_row22_col3 {\n",
       "  background-color: #fff6b6;\n",
       "  color: #000000;\n",
       "}\n",
       "#T_613da_row24_col3 {\n",
       "  background-color: #fffbc2;\n",
       "  color: #000000;\n",
       "}\n",
       "#T_613da_row25_col3 {\n",
       "  background-color: #febb56;\n",
       "  color: #000000;\n",
       "}\n",
       "#T_613da_row26_col3 {\n",
       "  background-color: #fff1a9;\n",
       "  color: #000000;\n",
       "}\n",
       "#T_613da_row27_col3 {\n",
       "  background-color: #fec863;\n",
       "  color: #000000;\n",
       "}\n",
       "</style>\n",
       "<table id=\"T_613da\">\n",
       "  <thead>\n",
       "    <tr>\n",
       "      <th class=\"blank level0\" >&nbsp;</th>\n",
       "      <th id=\"T_613da_level0_col0\" class=\"col_heading level0 col0\" >country</th>\n",
       "      <th id=\"T_613da_level0_col1\" class=\"col_heading level0 col1\" >loss</th>\n",
       "      <th id=\"T_613da_level0_col2\" class=\"col_heading level0 col2\" >cm_loss</th>\n",
       "      <th id=\"T_613da_level0_col3\" class=\"col_heading level0 col3\" >diff</th>\n",
       "    </tr>\n",
       "  </thead>\n",
       "  <tbody>\n",
       "    <tr>\n",
       "      <th id=\"T_613da_level0_row0\" class=\"row_heading level0 row0\" >0</th>\n",
       "      <td id=\"T_613da_row0_col0\" class=\"data row0 col0\" >Austria</td>\n",
       "      <td id=\"T_613da_row0_col1\" class=\"data row0 col1\" >244</td>\n",
       "      <td id=\"T_613da_row0_col2\" class=\"data row0 col2\" >587.934541</td>\n",
       "      <td id=\"T_613da_row0_col3\" class=\"data row0 col3\" >344.000000</td>\n",
       "    </tr>\n",
       "    <tr>\n",
       "      <th id=\"T_613da_level0_row1\" class=\"row_heading level0 row1\" >1</th>\n",
       "      <td id=\"T_613da_row1_col0\" class=\"data row1 col0\" >Belgium</td>\n",
       "      <td id=\"T_613da_row1_col1\" class=\"data row1 col1\" >210</td>\n",
       "      <td id=\"T_613da_row1_col2\" class=\"data row1 col2\" >487.240796</td>\n",
       "      <td id=\"T_613da_row1_col3\" class=\"data row1 col3\" >277.000000</td>\n",
       "    </tr>\n",
       "    <tr>\n",
       "      <th id=\"T_613da_level0_row2\" class=\"row_heading level0 row2\" >2</th>\n",
       "      <td id=\"T_613da_row2_col0\" class=\"data row2 col0\" >Bulgaria</td>\n",
       "      <td id=\"T_613da_row2_col1\" class=\"data row2 col1\" >89</td>\n",
       "      <td id=\"T_613da_row2_col2\" class=\"data row2 col2\" >124.582943</td>\n",
       "      <td id=\"T_613da_row2_col3\" class=\"data row2 col3\" >36.000000</td>\n",
       "    </tr>\n",
       "    <tr>\n",
       "      <th id=\"T_613da_level0_row3\" class=\"row_heading level0 row3\" >3</th>\n",
       "      <td id=\"T_613da_row3_col0\" class=\"data row3 col0\" >Croatia</td>\n",
       "      <td id=\"T_613da_row3_col1\" class=\"data row3 col1\" >72</td>\n",
       "      <td id=\"T_613da_row3_col2\" class=\"data row3 col2\" >112.487521</td>\n",
       "      <td id=\"T_613da_row3_col3\" class=\"data row3 col3\" >40.000000</td>\n",
       "    </tr>\n",
       "    <tr>\n",
       "      <th id=\"T_613da_level0_row4\" class=\"row_heading level0 row4\" >4</th>\n",
       "      <td id=\"T_613da_row4_col0\" class=\"data row4 col0\" >Cyprus</td>\n",
       "      <td id=\"T_613da_row4_col1\" class=\"data row4 col1\" >38</td>\n",
       "      <td id=\"T_613da_row4_col2\" class=\"data row4 col2\" >59.975740</td>\n",
       "      <td id=\"T_613da_row4_col3\" class=\"data row4 col3\" >22.000000</td>\n",
       "    </tr>\n",
       "    <tr>\n",
       "      <th id=\"T_613da_level0_row5\" class=\"row_heading level0 row5\" >5</th>\n",
       "      <td id=\"T_613da_row5_col0\" class=\"data row5 col0\" >Czech Republic</td>\n",
       "      <td id=\"T_613da_row5_col1\" class=\"data row5 col1\" >169</td>\n",
       "      <td id=\"T_613da_row5_col2\" class=\"data row5 col2\" >359.022153</td>\n",
       "      <td id=\"T_613da_row5_col3\" class=\"data row5 col3\" >190.000000</td>\n",
       "    </tr>\n",
       "    <tr>\n",
       "      <th id=\"T_613da_level0_row6\" class=\"row_heading level0 row6\" >6</th>\n",
       "      <td id=\"T_613da_row6_col0\" class=\"data row6 col0\" >Denmark</td>\n",
       "      <td id=\"T_613da_row6_col1\" class=\"data row6 col1\" >121</td>\n",
       "      <td id=\"T_613da_row6_col2\" class=\"data row6 col2\" >306.824764</td>\n",
       "      <td id=\"T_613da_row6_col3\" class=\"data row6 col3\" >186.000000</td>\n",
       "    </tr>\n",
       "    <tr>\n",
       "      <th id=\"T_613da_level0_row7\" class=\"row_heading level0 row7\" >7</th>\n",
       "      <td id=\"T_613da_row7_col0\" class=\"data row7 col0\" >Estonia</td>\n",
       "      <td id=\"T_613da_row7_col1\" class=\"data row7 col1\" >14</td>\n",
       "      <td id=\"T_613da_row7_col2\" class=\"data row7 col2\" >24.067631</td>\n",
       "      <td id=\"T_613da_row7_col3\" class=\"data row7 col3\" >10.000000</td>\n",
       "    </tr>\n",
       "    <tr>\n",
       "      <th id=\"T_613da_level0_row8\" class=\"row_heading level0 row8\" >8</th>\n",
       "      <td id=\"T_613da_row8_col0\" class=\"data row8 col0\" >Finland</td>\n",
       "      <td id=\"T_613da_row8_col1\" class=\"data row8 col1\" >66</td>\n",
       "      <td id=\"T_613da_row8_col2\" class=\"data row8 col2\" >238.172483</td>\n",
       "      <td id=\"T_613da_row8_col3\" class=\"data row8 col3\" >172.000000</td>\n",
       "    </tr>\n",
       "    <tr>\n",
       "      <th id=\"T_613da_level0_row9\" class=\"row_heading level0 row9\" >9</th>\n",
       "      <td id=\"T_613da_row9_col0\" class=\"data row9 col0\" >France</td>\n",
       "      <td id=\"T_613da_row9_col1\" class=\"data row9 col1\" >1244</td>\n",
       "      <td id=\"T_613da_row9_col2\" class=\"data row9 col2\" >3293.559629</td>\n",
       "      <td id=\"T_613da_row9_col3\" class=\"data row9 col3\" >2050.000000</td>\n",
       "    </tr>\n",
       "    <tr>\n",
       "      <th id=\"T_613da_level0_row10\" class=\"row_heading level0 row10\" >10</th>\n",
       "      <td id=\"T_613da_row10_col0\" class=\"data row10 col0\" >Germany</td>\n",
       "      <td id=\"T_613da_row10_col1\" class=\"data row10 col1\" >996</td>\n",
       "      <td id=\"T_613da_row10_col2\" class=\"data row10 col2\" >3413.648846</td>\n",
       "      <td id=\"T_613da_row10_col3\" class=\"data row10 col3\" >2418.000000</td>\n",
       "    </tr>\n",
       "    <tr>\n",
       "      <th id=\"T_613da_level0_row11\" class=\"row_heading level0 row11\" >11</th>\n",
       "      <td id=\"T_613da_row11_col0\" class=\"data row11 col0\" >Greece</td>\n",
       "      <td id=\"T_613da_row11_col1\" class=\"data row11 col1\" >326</td>\n",
       "      <td id=\"T_613da_row11_col2\" class=\"data row11 col2\" >426.388878</td>\n",
       "      <td id=\"T_613da_row11_col3\" class=\"data row11 col3\" >100.000000</td>\n",
       "    </tr>\n",
       "    <tr>\n",
       "      <th id=\"T_613da_level0_row12\" class=\"row_heading level0 row12\" >12</th>\n",
       "      <td id=\"T_613da_row12_col0\" class=\"data row12 col0\" >Hungary</td>\n",
       "      <td id=\"T_613da_row12_col1\" class=\"data row12 col1\" >162</td>\n",
       "      <td id=\"T_613da_row12_col2\" class=\"data row12 col2\" >230.961020</td>\n",
       "      <td id=\"T_613da_row12_col3\" class=\"data row12 col3\" >69.000000</td>\n",
       "    </tr>\n",
       "    <tr>\n",
       "      <th id=\"T_613da_level0_row13\" class=\"row_heading level0 row13\" >13</th>\n",
       "      <td id=\"T_613da_row13_col0\" class=\"data row13 col0\" >Ireland</td>\n",
       "      <td id=\"T_613da_row13_col1\" class=\"data row13 col1\" >122</td>\n",
       "      <td id=\"T_613da_row13_col2\" class=\"data row13 col2\" >249.527255</td>\n",
       "      <td id=\"T_613da_row13_col3\" class=\"data row13 col3\" >128.000000</td>\n",
       "    </tr>\n",
       "    <tr>\n",
       "      <th id=\"T_613da_level0_row14\" class=\"row_heading level0 row14\" >14</th>\n",
       "      <td id=\"T_613da_row14_col0\" class=\"data row14 col0\" >Italy</td>\n",
       "      <td id=\"T_613da_row14_col1\" class=\"data row14 col1\" >1395</td>\n",
       "      <td id=\"T_613da_row14_col2\" class=\"data row14 col2\" >2650.568157</td>\n",
       "      <td id=\"T_613da_row14_col3\" class=\"data row14 col3\" >1256.000000</td>\n",
       "    </tr>\n",
       "    <tr>\n",
       "      <th id=\"T_613da_level0_row15\" class=\"row_heading level0 row15\" >15</th>\n",
       "      <td id=\"T_613da_row15_col0\" class=\"data row15 col0\" >Latvia</td>\n",
       "      <td id=\"T_613da_row15_col1\" class=\"data row15 col1\" >18</td>\n",
       "      <td id=\"T_613da_row15_col2\" class=\"data row15 col2\" >34.981896</td>\n",
       "      <td id=\"T_613da_row15_col3\" class=\"data row15 col3\" >17.000000</td>\n",
       "    </tr>\n",
       "    <tr>\n",
       "      <th id=\"T_613da_level0_row16\" class=\"row_heading level0 row16\" >16</th>\n",
       "      <td id=\"T_613da_row16_col0\" class=\"data row16 col0\" >Lithuania</td>\n",
       "      <td id=\"T_613da_row16_col1\" class=\"data row16 col1\" >29</td>\n",
       "      <td id=\"T_613da_row16_col2\" class=\"data row16 col2\" >50.217270</td>\n",
       "      <td id=\"T_613da_row16_col3\" class=\"data row16 col3\" >21.000000</td>\n",
       "    </tr>\n",
       "    <tr>\n",
       "      <th id=\"T_613da_level0_row17\" class=\"row_heading level0 row17\" >17</th>\n",
       "      <td id=\"T_613da_row17_col0\" class=\"data row17 col0\" >Luxembourg</td>\n",
       "      <td id=\"T_613da_row17_col1\" class=\"data row17 col1\" >20</td>\n",
       "      <td id=\"T_613da_row17_col2\" class=\"data row17 col2\" >42.192521</td>\n",
       "      <td id=\"T_613da_row17_col3\" class=\"data row17 col3\" >22.000000</td>\n",
       "    </tr>\n",
       "    <tr>\n",
       "      <th id=\"T_613da_level0_row18\" class=\"row_heading level0 row18\" >18</th>\n",
       "      <td id=\"T_613da_row18_col0\" class=\"data row18 col0\" >Malta</td>\n",
       "      <td id=\"T_613da_row18_col1\" class=\"data row18 col1\" >13</td>\n",
       "      <td id=\"T_613da_row18_col2\" class=\"data row18 col2\" >0.000000</td>\n",
       "      <td id=\"T_613da_row18_col3\" class=\"data row18 col3\" >-13.000000</td>\n",
       "    </tr>\n",
       "    <tr>\n",
       "      <th id=\"T_613da_level0_row19\" class=\"row_heading level0 row19\" >19</th>\n",
       "      <td id=\"T_613da_row19_col0\" class=\"data row19 col0\" >Netherlands</td>\n",
       "      <td id=\"T_613da_row19_col1\" class=\"data row19 col1\" >265</td>\n",
       "      <td id=\"T_613da_row19_col2\" class=\"data row19 col2\" >945.498320</td>\n",
       "      <td id=\"T_613da_row19_col3\" class=\"data row19 col3\" >680.000000</td>\n",
       "    </tr>\n",
       "    <tr>\n",
       "      <th id=\"T_613da_level0_row20\" class=\"row_heading level0 row20\" >20</th>\n",
       "      <td id=\"T_613da_row20_col0\" class=\"data row20 col0\" >Poland</td>\n",
       "      <td id=\"T_613da_row20_col1\" class=\"data row20 col1\" >338</td>\n",
       "      <td id=\"T_613da_row20_col2\" class=\"data row20 col2\" >585.254327</td>\n",
       "      <td id=\"T_613da_row20_col3\" class=\"data row20 col3\" >247.000000</td>\n",
       "    </tr>\n",
       "    <tr>\n",
       "      <th id=\"T_613da_level0_row21\" class=\"row_heading level0 row21\" >21</th>\n",
       "      <td id=\"T_613da_row21_col0\" class=\"data row21 col0\" >Portugal</td>\n",
       "      <td id=\"T_613da_row21_col1\" class=\"data row21 col1\" >252</td>\n",
       "      <td id=\"T_613da_row21_col2\" class=\"data row21 col2\" >289.653475</td>\n",
       "      <td id=\"T_613da_row21_col3\" class=\"data row21 col3\" >38.000000</td>\n",
       "    </tr>\n",
       "    <tr>\n",
       "      <th id=\"T_613da_level0_row22\" class=\"row_heading level0 row22\" >22</th>\n",
       "      <td id=\"T_613da_row22_col0\" class=\"data row22 col0\" >Romania</td>\n",
       "      <td id=\"T_613da_row22_col1\" class=\"data row22 col1\" >388</td>\n",
       "      <td id=\"T_613da_row22_col2\" class=\"data row22 col2\" >533.905080</td>\n",
       "      <td id=\"T_613da_row22_col3\" class=\"data row22 col3\" >146.000000</td>\n",
       "    </tr>\n",
       "    <tr>\n",
       "      <th id=\"T_613da_level0_row23\" class=\"row_heading level0 row23\" >23</th>\n",
       "      <td id=\"T_613da_row23_col0\" class=\"data row23 col0\" >Slovakia</td>\n",
       "      <td id=\"T_613da_row23_col1\" class=\"data row23 col1\" >84</td>\n",
       "      <td id=\"T_613da_row23_col2\" class=\"data row23 col2\" >182.193080</td>\n",
       "      <td id=\"T_613da_row23_col3\" class=\"data row23 col3\" >98.000000</td>\n",
       "    </tr>\n",
       "    <tr>\n",
       "      <th id=\"T_613da_level0_row24\" class=\"row_heading level0 row24\" >24</th>\n",
       "      <td id=\"T_613da_row24_col0\" class=\"data row24 col0\" >Slovenia</td>\n",
       "      <td id=\"T_613da_row24_col1\" class=\"data row24 col1\" >45</td>\n",
       "      <td id=\"T_613da_row24_col2\" class=\"data row24 col2\" >105.352396</td>\n",
       "      <td id=\"T_613da_row24_col3\" class=\"data row24 col3\" >60.000000</td>\n",
       "    </tr>\n",
       "    <tr>\n",
       "      <th id=\"T_613da_level0_row25\" class=\"row_heading level0 row25\" >25</th>\n",
       "      <td id=\"T_613da_row25_col0\" class=\"data row25 col0\" >Spain</td>\n",
       "      <td id=\"T_613da_row25_col1\" class=\"data row25 col1\" >1487</td>\n",
       "      <td id=\"T_613da_row25_col2\" class=\"data row25 col2\" >2311.826500</td>\n",
       "      <td id=\"T_613da_row25_col3\" class=\"data row25 col3\" >825.000000</td>\n",
       "    </tr>\n",
       "    <tr>\n",
       "      <th id=\"T_613da_level0_row26\" class=\"row_heading level0 row26\" >26</th>\n",
       "      <td id=\"T_613da_row26_col0\" class=\"data row26 col0\" >Sweden</td>\n",
       "      <td id=\"T_613da_row26_col1\" class=\"data row26 col1\" >157</td>\n",
       "      <td id=\"T_613da_row26_col2\" class=\"data row26 col2\" >382.349957</td>\n",
       "      <td id=\"T_613da_row26_col3\" class=\"data row26 col3\" >225.000000</td>\n",
       "    </tr>\n",
       "    <tr>\n",
       "      <th id=\"T_613da_level0_row27\" class=\"row_heading level0 row27\" >27</th>\n",
       "      <td id=\"T_613da_row27_col0\" class=\"data row27 col0\" >United Kingdom</td>\n",
       "      <td id=\"T_613da_row27_col1\" class=\"data row27 col1\" >686</td>\n",
       "      <td id=\"T_613da_row27_col2\" class=\"data row27 col2\" >1417.009300</td>\n",
       "      <td id=\"T_613da_row27_col3\" class=\"data row27 col3\" >731.000000</td>\n",
       "    </tr>\n",
       "  </tbody>\n",
       "</table>\n"
      ],
      "text/plain": [
       "<pandas.io.formats.style.Styler at 0x23d82dfc370>"
      ]
     },
     "execution_count": 85,
     "metadata": {},
     "output_type": "execute_result"
    }
   ],
   "source": [
    "f_results.drop(\"country_code\",axis=1).style.background_gradient(axis=None,cmap='YlOrRd', subset=['diff']) "
   ]
  },
  {
   "cell_type": "markdown",
   "id": "4c1be4dd-2930-42d7-aa52-fa9327cdb0f3",
   "metadata": {},
   "source": [
    "### Questions"
   ]
  },
  {
   "cell_type": "markdown",
   "id": "79f26a6e-cd88-4496-b6d6-5ca4bd01790c",
   "metadata": {},
   "source": [
    "1. Same model and rcp does have differente river pixels in the raster. How to consider when pixel's are not there, even at NUTS-0? [solved]\n",
    "2. How is it weighted? \n",
    "3. Looking at the results of the paper, and applying the inverse power law to them, i get values well above 1 for frequency. E.g. 61 for Sweden, 48 for Finland. How that can happen? my ones are all below 1 in average too."
   ]
  },
  {
   "cell_type": "markdown",
   "id": "849cc75f-fe36-40fa-8499-a236e2abeeb2",
   "metadata": {},
   "source": [
    "### sandbox"
   ]
  },
  {
   "cell_type": "code",
   "execution_count": 86,
   "id": "4d9e2f04-9443-407e-bc43-612f95bd41c5",
   "metadata": {},
   "outputs": [],
   "source": [
    "#power_law(0.369,parameter_a, parameter_b) * 6586"
   ]
  },
  {
   "cell_type": "code",
   "execution_count": 87,
   "id": "f6bc31ab-32dc-4682-9c2f-cfdcde252033",
   "metadata": {},
   "outputs": [],
   "source": [
    "#210/6586"
   ]
  },
  {
   "cell_type": "code",
   "execution_count": 88,
   "id": "0b8bb5a2-e905-4529-8342-e469e537b180",
   "metadata": {},
   "outputs": [],
   "source": [
    "#final_df = pd.DataFrame(listone, columns=['country_code','impact','fraction'])"
   ]
  },
  {
   "cell_type": "code",
   "execution_count": 89,
   "id": "d98c7ef0-c0a1-46f7-bb6d-c24cc52912dc",
   "metadata": {},
   "outputs": [],
   "source": [
    "#final_df[final_df['country_code']=='AT']"
   ]
  },
  {
   "cell_type": "code",
   "execution_count": 90,
   "id": "ce95776b-61e3-4779-be27-7d1f10b0dfdc",
   "metadata": {},
   "outputs": [],
   "source": [
    "#prova_dbf = r\"E:\\mottaco\\Documents\\JRC\\3. Data\\1. Drought\\LISFLOOD\\projection\\dbf\\frq_table_droughtFrqDiagnostics_IPSL_INERIS_WRF331F_BC_rcp45_1990_NUTS3.dbf\"\n",
    "\n",
    "#dbf = Dbf5(prova_dbf, codec='utf-8')\n",
    "# convert it to a pandas dataframe\n",
    "#df = dbf.to_dataframe()\n",
    "\n",
    "#dbf = Dbf5(r\"E:\\mottaco\\Documents\\Workspace\\Drought_analysis\\dbf\\table_y1990_NUTS3.dbf\", codec='utf-8')\n",
    "# convert it to a pandas dataframe\n",
    "#df2 = dbf.to_dataframe()\n",
    "\n",
    "#prova_diff = list(set(df2.NUTS_ID) - set(df.NUTS_ID))\n",
    "\n",
    "#prova_diff.sort()"
   ]
  }
 ],
 "metadata": {
  "kernelspec": {
   "display_name": "Python 3 (ipykernel)",
   "language": "python",
   "name": "python3"
  },
  "language_info": {
   "codemirror_mode": {
    "name": "ipython",
    "version": 3
   },
   "file_extension": ".py",
   "mimetype": "text/x-python",
   "name": "python",
   "nbconvert_exporter": "python",
   "pygments_lexer": "ipython3",
   "version": "3.10.8"
  }
 },
 "nbformat": 4,
 "nbformat_minor": 5
}
